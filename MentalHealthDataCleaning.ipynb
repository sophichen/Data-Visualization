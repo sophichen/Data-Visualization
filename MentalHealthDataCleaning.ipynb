{
 "cells": [
  {
   "cell_type": "code",
   "execution_count": 1,
   "id": "c8490532-785e-4a12-930f-2f28da3f468e",
   "metadata": {},
   "outputs": [
    {
     "name": "stdout",
     "output_type": "stream",
     "text": [
      "Requirement already satisfied: patool in /Users/xi/opt/anaconda3/lib/python3.8/site-packages (1.12)\n"
     ]
    }
   ],
   "source": [
    "! pip install patool"
   ]
  },
  {
   "cell_type": "code",
   "execution_count": 2,
   "id": "a09b4bd8-26ac-46dc-8c6f-fbfbb7a64c8a",
   "metadata": {},
   "outputs": [],
   "source": [
    "import patoolib\n",
    "import pandas as pd"
   ]
  },
  {
   "cell_type": "code",
   "execution_count": 4,
   "id": "6e2f81ef-bfc2-48c4-a7fd-c9739595529f",
   "metadata": {},
   "outputs": [],
   "source": [
    "# import patoolib\n",
    "# patoolib.extract_archive(\"archive (1).zip\") #unzipping the datafiles \n",
    "# patoolib.extract_archive(\"archive (2).zip\")\n",
    "# patoolib.extract_archive(\"archive (3).zip\")"
   ]
  },
  {
   "cell_type": "code",
   "execution_count": 3,
   "id": "3f5a1935-f06e-412d-b58a-850db2599db9",
   "metadata": {
    "tags": []
   },
   "outputs": [],
   "source": [
    "tech = pd.read_csv('tech.csv') # putting all of these datasets in their unique data frames\n",
    "student = pd.read_csv('student (1).csv')\n",
    "music= pd.read_csv('music_and_mental_heath_survey.csv')"
   ]
  },
  {
   "cell_type": "code",
   "execution_count": 4,
   "id": "0ebdc760-7ba0-425a-aded-e9daeb8b69f0",
   "metadata": {},
   "outputs": [
    {
     "data": {
      "text/plain": [
       "1259"
      ]
     },
     "execution_count": 4,
     "metadata": {},
     "output_type": "execute_result"
    }
   ],
   "source": [
    "len(tech)"
   ]
  },
  {
   "cell_type": "code",
   "execution_count": 5,
   "id": "d13e3052-3dd9-4deb-a2eb-53b18d3bd8c2",
   "metadata": {},
   "outputs": [
    {
     "data": {
      "text/plain": [
       "100"
      ]
     },
     "execution_count": 5,
     "metadata": {},
     "output_type": "execute_result"
    }
   ],
   "source": [
    "len(student)"
   ]
  },
  {
   "cell_type": "code",
   "execution_count": 9,
   "id": "7808a21c-6616-4526-a9e9-c9386f3b94b3",
   "metadata": {},
   "outputs": [
    {
     "data": {
      "text/plain": [
       "736"
      ]
     },
     "execution_count": 9,
     "metadata": {},
     "output_type": "execute_result"
    }
   ],
   "source": [
    "len(music)"
   ]
  },
  {
   "cell_type": "code",
   "execution_count": 9,
   "id": "c95e881a-42b1-4c97-bbdc-df5a304ea9de",
   "metadata": {},
   "outputs": [],
   "source": [
    "# music.head() - we might not need to use music "
   ]
  },
  {
   "cell_type": "code",
   "execution_count": 6,
   "id": "8d8f89fc-9966-4aad-bcba-6404722ca3d8",
   "metadata": {
    "tags": []
   },
   "outputs": [
    {
     "data": {
      "text/html": [
       "<div>\n",
       "<style scoped>\n",
       "    .dataframe tbody tr th:only-of-type {\n",
       "        vertical-align: middle;\n",
       "    }\n",
       "\n",
       "    .dataframe tbody tr th {\n",
       "        vertical-align: top;\n",
       "    }\n",
       "\n",
       "    .dataframe thead th {\n",
       "        text-align: right;\n",
       "    }\n",
       "</style>\n",
       "<table border=\"1\" class=\"dataframe\">\n",
       "  <thead>\n",
       "    <tr style=\"text-align: right;\">\n",
       "      <th></th>\n",
       "      <th>Timestamp</th>\n",
       "      <th>Choose your gender</th>\n",
       "      <th>Age</th>\n",
       "      <th>What is your course?</th>\n",
       "      <th>Your current year of Study</th>\n",
       "      <th>What is your CGPA?</th>\n",
       "      <th>Marital status</th>\n",
       "      <th>Do you have Depression?</th>\n",
       "      <th>Do you have Anxiety?</th>\n",
       "      <th>Do you have Panic attack?</th>\n",
       "      <th>Did you seek any specialist for a treatment?</th>\n",
       "    </tr>\n",
       "  </thead>\n",
       "  <tbody>\n",
       "    <tr>\n",
       "      <th>0</th>\n",
       "      <td>8/7/2020 12:02</td>\n",
       "      <td>Female</td>\n",
       "      <td>18.0</td>\n",
       "      <td>Engineering</td>\n",
       "      <td>year 1</td>\n",
       "      <td>3.00 - 3.49</td>\n",
       "      <td>No</td>\n",
       "      <td>Yes</td>\n",
       "      <td>No</td>\n",
       "      <td>Yes</td>\n",
       "      <td>No</td>\n",
       "    </tr>\n",
       "    <tr>\n",
       "      <th>1</th>\n",
       "      <td>8/7/2020 12:04</td>\n",
       "      <td>Male</td>\n",
       "      <td>21.0</td>\n",
       "      <td>Islamic education</td>\n",
       "      <td>year 2</td>\n",
       "      <td>3.00 - 3.49</td>\n",
       "      <td>No</td>\n",
       "      <td>No</td>\n",
       "      <td>Yes</td>\n",
       "      <td>No</td>\n",
       "      <td>No</td>\n",
       "    </tr>\n",
       "    <tr>\n",
       "      <th>2</th>\n",
       "      <td>8/7/2020 12:05</td>\n",
       "      <td>Male</td>\n",
       "      <td>19.0</td>\n",
       "      <td>BIT</td>\n",
       "      <td>Year 1</td>\n",
       "      <td>3.00 - 3.49</td>\n",
       "      <td>No</td>\n",
       "      <td>Yes</td>\n",
       "      <td>Yes</td>\n",
       "      <td>Yes</td>\n",
       "      <td>No</td>\n",
       "    </tr>\n",
       "    <tr>\n",
       "      <th>3</th>\n",
       "      <td>8/7/2020 12:06</td>\n",
       "      <td>Female</td>\n",
       "      <td>22.0</td>\n",
       "      <td>Laws</td>\n",
       "      <td>year 3</td>\n",
       "      <td>3.00 - 3.49</td>\n",
       "      <td>Yes</td>\n",
       "      <td>Yes</td>\n",
       "      <td>No</td>\n",
       "      <td>No</td>\n",
       "      <td>No</td>\n",
       "    </tr>\n",
       "    <tr>\n",
       "      <th>4</th>\n",
       "      <td>8/7/2020 12:13</td>\n",
       "      <td>Male</td>\n",
       "      <td>23.0</td>\n",
       "      <td>Mathemathics</td>\n",
       "      <td>year 4</td>\n",
       "      <td>3.00 - 3.49</td>\n",
       "      <td>No</td>\n",
       "      <td>No</td>\n",
       "      <td>No</td>\n",
       "      <td>No</td>\n",
       "      <td>No</td>\n",
       "    </tr>\n",
       "  </tbody>\n",
       "</table>\n",
       "</div>"
      ],
      "text/plain": [
       "        Timestamp Choose your gender   Age What is your course?  \\\n",
       "0  8/7/2020 12:02             Female  18.0          Engineering   \n",
       "1  8/7/2020 12:04               Male  21.0    Islamic education   \n",
       "2  8/7/2020 12:05               Male  19.0                  BIT   \n",
       "3  8/7/2020 12:06             Female  22.0                 Laws   \n",
       "4  8/7/2020 12:13               Male  23.0         Mathemathics   \n",
       "\n",
       "  Your current year of Study What is your CGPA? Marital status  \\\n",
       "0                     year 1        3.00 - 3.49             No   \n",
       "1                     year 2        3.00 - 3.49             No   \n",
       "2                     Year 1        3.00 - 3.49             No   \n",
       "3                     year 3        3.00 - 3.49            Yes   \n",
       "4                     year 4        3.00 - 3.49             No   \n",
       "\n",
       "  Do you have Depression? Do you have Anxiety? Do you have Panic attack?  \\\n",
       "0                     Yes                   No                       Yes   \n",
       "1                      No                  Yes                        No   \n",
       "2                     Yes                  Yes                       Yes   \n",
       "3                     Yes                   No                        No   \n",
       "4                      No                   No                        No   \n",
       "\n",
       "  Did you seek any specialist for a treatment?  \n",
       "0                                           No  \n",
       "1                                           No  \n",
       "2                                           No  \n",
       "3                                           No  \n",
       "4                                           No  "
      ]
     },
     "execution_count": 6,
     "metadata": {},
     "output_type": "execute_result"
    }
   ],
   "source": [
    "student.head()"
   ]
  },
  {
   "cell_type": "code",
   "execution_count": 7,
   "id": "1d0ed8b2-a835-433d-adcb-4315fa076c7b",
   "metadata": {},
   "outputs": [],
   "source": [
    "tech = pd.read_csv('tech.csv')"
   ]
  },
  {
   "cell_type": "code",
   "execution_count": 8,
   "id": "59766122-013e-455a-85d1-8558ddeb8274",
   "metadata": {
    "tags": []
   },
   "outputs": [
    {
     "data": {
      "text/html": [
       "<div>\n",
       "<style scoped>\n",
       "    .dataframe tbody tr th:only-of-type {\n",
       "        vertical-align: middle;\n",
       "    }\n",
       "\n",
       "    .dataframe tbody tr th {\n",
       "        vertical-align: top;\n",
       "    }\n",
       "\n",
       "    .dataframe thead th {\n",
       "        text-align: right;\n",
       "    }\n",
       "</style>\n",
       "<table border=\"1\" class=\"dataframe\">\n",
       "  <thead>\n",
       "    <tr style=\"text-align: right;\">\n",
       "      <th></th>\n",
       "      <th>Timestamp</th>\n",
       "      <th>Age</th>\n",
       "      <th>Gender</th>\n",
       "      <th>Country</th>\n",
       "      <th>state</th>\n",
       "      <th>self_employed</th>\n",
       "      <th>family_history</th>\n",
       "      <th>treatment</th>\n",
       "      <th>work_interfere</th>\n",
       "      <th>no_employees</th>\n",
       "      <th>...</th>\n",
       "      <th>leave</th>\n",
       "      <th>mental_health_consequence</th>\n",
       "      <th>phys_health_consequence</th>\n",
       "      <th>coworkers</th>\n",
       "      <th>supervisor</th>\n",
       "      <th>mental_health_interview</th>\n",
       "      <th>phys_health_interview</th>\n",
       "      <th>mental_vs_physical</th>\n",
       "      <th>obs_consequence</th>\n",
       "      <th>comments</th>\n",
       "    </tr>\n",
       "  </thead>\n",
       "  <tbody>\n",
       "    <tr>\n",
       "      <th>0</th>\n",
       "      <td>2014-08-27 11:29:31</td>\n",
       "      <td>37</td>\n",
       "      <td>Female</td>\n",
       "      <td>United States</td>\n",
       "      <td>IL</td>\n",
       "      <td>NaN</td>\n",
       "      <td>No</td>\n",
       "      <td>Yes</td>\n",
       "      <td>Often</td>\n",
       "      <td>6-25</td>\n",
       "      <td>...</td>\n",
       "      <td>Somewhat easy</td>\n",
       "      <td>No</td>\n",
       "      <td>No</td>\n",
       "      <td>Some of them</td>\n",
       "      <td>Yes</td>\n",
       "      <td>No</td>\n",
       "      <td>Maybe</td>\n",
       "      <td>Yes</td>\n",
       "      <td>No</td>\n",
       "      <td>NaN</td>\n",
       "    </tr>\n",
       "    <tr>\n",
       "      <th>1</th>\n",
       "      <td>2014-08-27 11:29:37</td>\n",
       "      <td>44</td>\n",
       "      <td>M</td>\n",
       "      <td>United States</td>\n",
       "      <td>IN</td>\n",
       "      <td>NaN</td>\n",
       "      <td>No</td>\n",
       "      <td>No</td>\n",
       "      <td>Rarely</td>\n",
       "      <td>More than 1000</td>\n",
       "      <td>...</td>\n",
       "      <td>Don't know</td>\n",
       "      <td>Maybe</td>\n",
       "      <td>No</td>\n",
       "      <td>No</td>\n",
       "      <td>No</td>\n",
       "      <td>No</td>\n",
       "      <td>No</td>\n",
       "      <td>Don't know</td>\n",
       "      <td>No</td>\n",
       "      <td>NaN</td>\n",
       "    </tr>\n",
       "    <tr>\n",
       "      <th>4</th>\n",
       "      <td>2014-08-27 11:30:22</td>\n",
       "      <td>31</td>\n",
       "      <td>Male</td>\n",
       "      <td>United States</td>\n",
       "      <td>TX</td>\n",
       "      <td>NaN</td>\n",
       "      <td>No</td>\n",
       "      <td>No</td>\n",
       "      <td>Never</td>\n",
       "      <td>100-500</td>\n",
       "      <td>...</td>\n",
       "      <td>Don't know</td>\n",
       "      <td>No</td>\n",
       "      <td>No</td>\n",
       "      <td>Some of them</td>\n",
       "      <td>Yes</td>\n",
       "      <td>Yes</td>\n",
       "      <td>Yes</td>\n",
       "      <td>Don't know</td>\n",
       "      <td>No</td>\n",
       "      <td>NaN</td>\n",
       "    </tr>\n",
       "    <tr>\n",
       "      <th>5</th>\n",
       "      <td>2014-08-27 11:31:22</td>\n",
       "      <td>33</td>\n",
       "      <td>Male</td>\n",
       "      <td>United States</td>\n",
       "      <td>TN</td>\n",
       "      <td>NaN</td>\n",
       "      <td>Yes</td>\n",
       "      <td>No</td>\n",
       "      <td>Sometimes</td>\n",
       "      <td>6-25</td>\n",
       "      <td>...</td>\n",
       "      <td>Don't know</td>\n",
       "      <td>No</td>\n",
       "      <td>No</td>\n",
       "      <td>Yes</td>\n",
       "      <td>Yes</td>\n",
       "      <td>No</td>\n",
       "      <td>Maybe</td>\n",
       "      <td>Don't know</td>\n",
       "      <td>No</td>\n",
       "      <td>NaN</td>\n",
       "    </tr>\n",
       "    <tr>\n",
       "      <th>6</th>\n",
       "      <td>2014-08-27 11:31:50</td>\n",
       "      <td>35</td>\n",
       "      <td>Female</td>\n",
       "      <td>United States</td>\n",
       "      <td>MI</td>\n",
       "      <td>NaN</td>\n",
       "      <td>Yes</td>\n",
       "      <td>Yes</td>\n",
       "      <td>Sometimes</td>\n",
       "      <td>1-5</td>\n",
       "      <td>...</td>\n",
       "      <td>Somewhat difficult</td>\n",
       "      <td>Maybe</td>\n",
       "      <td>Maybe</td>\n",
       "      <td>Some of them</td>\n",
       "      <td>No</td>\n",
       "      <td>No</td>\n",
       "      <td>No</td>\n",
       "      <td>Don't know</td>\n",
       "      <td>No</td>\n",
       "      <td>NaN</td>\n",
       "    </tr>\n",
       "    <tr>\n",
       "      <th>...</th>\n",
       "      <td>...</td>\n",
       "      <td>...</td>\n",
       "      <td>...</td>\n",
       "      <td>...</td>\n",
       "      <td>...</td>\n",
       "      <td>...</td>\n",
       "      <td>...</td>\n",
       "      <td>...</td>\n",
       "      <td>...</td>\n",
       "      <td>...</td>\n",
       "      <td>...</td>\n",
       "      <td>...</td>\n",
       "      <td>...</td>\n",
       "      <td>...</td>\n",
       "      <td>...</td>\n",
       "      <td>...</td>\n",
       "      <td>...</td>\n",
       "      <td>...</td>\n",
       "      <td>...</td>\n",
       "      <td>...</td>\n",
       "      <td>...</td>\n",
       "    </tr>\n",
       "    <tr>\n",
       "      <th>1253</th>\n",
       "      <td>2015-08-25 19:59:38</td>\n",
       "      <td>36</td>\n",
       "      <td>Male</td>\n",
       "      <td>United States</td>\n",
       "      <td>UT</td>\n",
       "      <td>No</td>\n",
       "      <td>Yes</td>\n",
       "      <td>No</td>\n",
       "      <td>Rarely</td>\n",
       "      <td>More than 1000</td>\n",
       "      <td>...</td>\n",
       "      <td>Somewhat easy</td>\n",
       "      <td>Maybe</td>\n",
       "      <td>Maybe</td>\n",
       "      <td>Some of them</td>\n",
       "      <td>Some of them</td>\n",
       "      <td>No</td>\n",
       "      <td>No</td>\n",
       "      <td>Don't know</td>\n",
       "      <td>No</td>\n",
       "      <td>NaN</td>\n",
       "    </tr>\n",
       "    <tr>\n",
       "      <th>1255</th>\n",
       "      <td>2015-09-26 01:07:35</td>\n",
       "      <td>32</td>\n",
       "      <td>Male</td>\n",
       "      <td>United States</td>\n",
       "      <td>IL</td>\n",
       "      <td>No</td>\n",
       "      <td>Yes</td>\n",
       "      <td>Yes</td>\n",
       "      <td>Often</td>\n",
       "      <td>26-100</td>\n",
       "      <td>...</td>\n",
       "      <td>Somewhat difficult</td>\n",
       "      <td>No</td>\n",
       "      <td>No</td>\n",
       "      <td>Some of them</td>\n",
       "      <td>Yes</td>\n",
       "      <td>No</td>\n",
       "      <td>No</td>\n",
       "      <td>Yes</td>\n",
       "      <td>No</td>\n",
       "      <td>NaN</td>\n",
       "    </tr>\n",
       "    <tr>\n",
       "      <th>1256</th>\n",
       "      <td>2015-11-07 12:36:58</td>\n",
       "      <td>34</td>\n",
       "      <td>male</td>\n",
       "      <td>United States</td>\n",
       "      <td>CA</td>\n",
       "      <td>No</td>\n",
       "      <td>Yes</td>\n",
       "      <td>Yes</td>\n",
       "      <td>Sometimes</td>\n",
       "      <td>More than 1000</td>\n",
       "      <td>...</td>\n",
       "      <td>Somewhat difficult</td>\n",
       "      <td>Yes</td>\n",
       "      <td>Yes</td>\n",
       "      <td>No</td>\n",
       "      <td>No</td>\n",
       "      <td>No</td>\n",
       "      <td>No</td>\n",
       "      <td>No</td>\n",
       "      <td>No</td>\n",
       "      <td>NaN</td>\n",
       "    </tr>\n",
       "    <tr>\n",
       "      <th>1257</th>\n",
       "      <td>2015-11-30 21:25:06</td>\n",
       "      <td>46</td>\n",
       "      <td>f</td>\n",
       "      <td>United States</td>\n",
       "      <td>NC</td>\n",
       "      <td>No</td>\n",
       "      <td>No</td>\n",
       "      <td>No</td>\n",
       "      <td>NaN</td>\n",
       "      <td>100-500</td>\n",
       "      <td>...</td>\n",
       "      <td>Don't know</td>\n",
       "      <td>Yes</td>\n",
       "      <td>No</td>\n",
       "      <td>No</td>\n",
       "      <td>No</td>\n",
       "      <td>No</td>\n",
       "      <td>No</td>\n",
       "      <td>No</td>\n",
       "      <td>No</td>\n",
       "      <td>NaN</td>\n",
       "    </tr>\n",
       "    <tr>\n",
       "      <th>1258</th>\n",
       "      <td>2016-02-01 23:04:31</td>\n",
       "      <td>25</td>\n",
       "      <td>Male</td>\n",
       "      <td>United States</td>\n",
       "      <td>IL</td>\n",
       "      <td>No</td>\n",
       "      <td>Yes</td>\n",
       "      <td>Yes</td>\n",
       "      <td>Sometimes</td>\n",
       "      <td>26-100</td>\n",
       "      <td>...</td>\n",
       "      <td>Don't know</td>\n",
       "      <td>Maybe</td>\n",
       "      <td>No</td>\n",
       "      <td>Some of them</td>\n",
       "      <td>No</td>\n",
       "      <td>No</td>\n",
       "      <td>No</td>\n",
       "      <td>Don't know</td>\n",
       "      <td>No</td>\n",
       "      <td>NaN</td>\n",
       "    </tr>\n",
       "  </tbody>\n",
       "</table>\n",
       "<p>751 rows × 27 columns</p>\n",
       "</div>"
      ],
      "text/plain": [
       "                Timestamp  Age  Gender        Country state self_employed  \\\n",
       "0     2014-08-27 11:29:31   37  Female  United States    IL           NaN   \n",
       "1     2014-08-27 11:29:37   44       M  United States    IN           NaN   \n",
       "4     2014-08-27 11:30:22   31    Male  United States    TX           NaN   \n",
       "5     2014-08-27 11:31:22   33    Male  United States    TN           NaN   \n",
       "6     2014-08-27 11:31:50   35  Female  United States    MI           NaN   \n",
       "...                   ...  ...     ...            ...   ...           ...   \n",
       "1253  2015-08-25 19:59:38   36    Male  United States    UT            No   \n",
       "1255  2015-09-26 01:07:35   32    Male  United States    IL            No   \n",
       "1256  2015-11-07 12:36:58   34    male  United States    CA            No   \n",
       "1257  2015-11-30 21:25:06   46       f  United States    NC            No   \n",
       "1258  2016-02-01 23:04:31   25    Male  United States    IL            No   \n",
       "\n",
       "     family_history treatment work_interfere    no_employees  ...  \\\n",
       "0                No       Yes          Often            6-25  ...   \n",
       "1                No        No         Rarely  More than 1000  ...   \n",
       "4                No        No          Never         100-500  ...   \n",
       "5               Yes        No      Sometimes            6-25  ...   \n",
       "6               Yes       Yes      Sometimes             1-5  ...   \n",
       "...             ...       ...            ...             ...  ...   \n",
       "1253            Yes        No         Rarely  More than 1000  ...   \n",
       "1255            Yes       Yes          Often          26-100  ...   \n",
       "1256            Yes       Yes      Sometimes  More than 1000  ...   \n",
       "1257             No        No            NaN         100-500  ...   \n",
       "1258            Yes       Yes      Sometimes          26-100  ...   \n",
       "\n",
       "                   leave mental_health_consequence phys_health_consequence  \\\n",
       "0          Somewhat easy                        No                      No   \n",
       "1             Don't know                     Maybe                      No   \n",
       "4             Don't know                        No                      No   \n",
       "5             Don't know                        No                      No   \n",
       "6     Somewhat difficult                     Maybe                   Maybe   \n",
       "...                  ...                       ...                     ...   \n",
       "1253       Somewhat easy                     Maybe                   Maybe   \n",
       "1255  Somewhat difficult                        No                      No   \n",
       "1256  Somewhat difficult                       Yes                     Yes   \n",
       "1257          Don't know                       Yes                      No   \n",
       "1258          Don't know                     Maybe                      No   \n",
       "\n",
       "         coworkers    supervisor mental_health_interview  \\\n",
       "0     Some of them           Yes                      No   \n",
       "1               No            No                      No   \n",
       "4     Some of them           Yes                     Yes   \n",
       "5              Yes           Yes                      No   \n",
       "6     Some of them            No                      No   \n",
       "...            ...           ...                     ...   \n",
       "1253  Some of them  Some of them                      No   \n",
       "1255  Some of them           Yes                      No   \n",
       "1256            No            No                      No   \n",
       "1257            No            No                      No   \n",
       "1258  Some of them            No                      No   \n",
       "\n",
       "     phys_health_interview mental_vs_physical obs_consequence comments  \n",
       "0                    Maybe                Yes              No      NaN  \n",
       "1                       No         Don't know              No      NaN  \n",
       "4                      Yes         Don't know              No      NaN  \n",
       "5                    Maybe         Don't know              No      NaN  \n",
       "6                       No         Don't know              No      NaN  \n",
       "...                    ...                ...             ...      ...  \n",
       "1253                    No         Don't know              No      NaN  \n",
       "1255                    No                Yes              No      NaN  \n",
       "1256                    No                 No              No      NaN  \n",
       "1257                    No                 No              No      NaN  \n",
       "1258                    No         Don't know              No      NaN  \n",
       "\n",
       "[751 rows x 27 columns]"
      ]
     },
     "execution_count": 8,
     "metadata": {},
     "output_type": "execute_result"
    }
   ],
   "source": [
    "us_tech_mental = tech[tech[\"Country\"] == 'United States'] #subsetting the data for the location to be in the united states \n",
    "us_tech_mental"
   ]
  },
  {
   "cell_type": "code",
   "execution_count": null,
   "id": "f0a46385-e7ec-4b11-b881-02f0bb905166",
   "metadata": {},
   "outputs": [],
   "source": []
  },
  {
   "cell_type": "code",
   "execution_count": 9,
   "id": "5e73a342-3ba3-4388-9cbe-14269e8fb794",
   "metadata": {},
   "outputs": [
    {
     "data": {
      "text/plain": [
       "array(['Female', 'M', 'Male', 'female', 'male', 'Male-ish', 'maile',\n",
       "       'Trans-female', 'Cis Female', 'F', 'Cis Male', 'm', 'f',\n",
       "       'Male (CIS)', 'queer/she/they', 'non-binary', 'Femake', 'woman',\n",
       "       'Make', 'Nah', 'Genderqueer', 'Female ', 'Woman',\n",
       "       'cis-female/femme', 'Male ', 'Trans woman', 'Man', 'msle',\n",
       "       'Female (trans)', 'Female (cis)', 'Mail', 'cis male', 'p',\n",
       "       'femail'], dtype=object)"
      ]
     },
     "execution_count": 9,
     "metadata": {},
     "output_type": "execute_result"
    }
   ],
   "source": [
    "us_tech_mental['Gender'].unique() #before the value name changes for the dataframe "
   ]
  },
  {
   "cell_type": "code",
   "execution_count": 32,
   "id": "5f984072-b947-45a6-9345-b669c7049c67",
   "metadata": {},
   "outputs": [],
   "source": [
    "# Replace values in the 'Quarter' column\n",
    "us_tech_mental['Gender'].replace({'M': 'Male', 'female': 'Female', 'male': 'Male', 'Male-ish': 'Male', 'maile': 'Male', 'Cis Female': 'Female', 'f': 'Female', 'Male (CIS)': 'Male',\n",
    "                                  'Trans-female':'Queer', 'Nah': 'Unindentified', 'cis-female/femme':'Female', 'Trans woman':'Queer', 'Man': 'Male','msle': 'Queer', 'Female (trans)': 'Queer', 'Female (cis)': 'Female', 'Mail': 'Male', 'cis male': 'Male', 'p': 'Queer','femail': 'Female',\n",
    "                                  \n",
    "                                  'queer/she/they': 'Queer', 'non-binary': 'Non-binary', 'Genderqueer': 'Queer', 'Woman': 'Female', 'Make': 'Male', 'Femake': 'Female', 'woman': 'Female', 'Male (CIS)': 'Male',\n",
    "                                  'F': 'Female', 'Cis Male': 'Male', 'm': 'Male', 'Non-binary': 'Queer', 'Female ': 'Female', 'Male ': 'Male'                                 \n",
    "                                        \n",
    "                                 }, inplace=True)"
   ]
  },
  {
   "cell_type": "code",
   "execution_count": 33,
   "id": "3c5592cd-4d80-4069-a2a1-902dd6ecab1b",
   "metadata": {},
   "outputs": [],
   "source": [
    "us_tech_mental['Gender'].replace({'Non-binary':'Queer'},inplace=True)"
   ]
  },
  {
   "cell_type": "code",
   "execution_count": 34,
   "id": "0d0ebcbd-4f96-42c7-aeb7-0fe1b0e29c96",
   "metadata": {},
   "outputs": [
    {
     "data": {
      "text/plain": [
       "array(['Male', 'Female', 'Queer'], dtype=object)"
      ]
     },
     "execution_count": 34,
     "metadata": {},
     "output_type": "execute_result"
    }
   ],
   "source": [
    "us_tech_mental['Gender'].unique() #after the value name changes for the dataframe "
   ]
  },
  {
   "cell_type": "code",
   "execution_count": 35,
   "id": "dcc25108-8cac-4399-8ff2-18842227e61d",
   "metadata": {},
   "outputs": [
    {
     "data": {
      "text/plain": [
       "array(['No', 'Yes'], dtype=object)"
      ]
     },
     "execution_count": 35,
     "metadata": {},
     "output_type": "execute_result"
    }
   ],
   "source": [
    "us_tech_mental['self_employed'].unique() #need to remove nan"
   ]
  },
  {
   "cell_type": "code",
   "execution_count": 36,
   "id": "e73563f7-3bee-4c8d-a7f4-b841a6847f6b",
   "metadata": {
    "collapsed": true,
    "jupyter": {
     "outputs_hidden": true
    },
    "tags": []
   },
   "outputs": [
    {
     "ename": "KeyError",
     "evalue": "'family_history'",
     "output_type": "error",
     "traceback": [
      "\u001b[0;31m---------------------------------------------------------------------------\u001b[0m",
      "\u001b[0;31mKeyError\u001b[0m                                  Traceback (most recent call last)",
      "File \u001b[0;32m~/opt/anaconda3/lib/python3.8/site-packages/pandas/core/indexes/base.py:3080\u001b[0m, in \u001b[0;36mIndex.get_loc\u001b[0;34m(self, key, method, tolerance)\u001b[0m\n\u001b[1;32m   3079\u001b[0m \u001b[38;5;28;01mtry\u001b[39;00m:\n\u001b[0;32m-> 3080\u001b[0m     \u001b[38;5;28;01mreturn\u001b[39;00m \u001b[38;5;28;43mself\u001b[39;49m\u001b[38;5;241;43m.\u001b[39;49m\u001b[43m_engine\u001b[49m\u001b[38;5;241;43m.\u001b[39;49m\u001b[43mget_loc\u001b[49m\u001b[43m(\u001b[49m\u001b[43mcasted_key\u001b[49m\u001b[43m)\u001b[49m\n\u001b[1;32m   3081\u001b[0m \u001b[38;5;28;01mexcept\u001b[39;00m \u001b[38;5;167;01mKeyError\u001b[39;00m \u001b[38;5;28;01mas\u001b[39;00m err:\n",
      "File \u001b[0;32mpandas/_libs/index.pyx:70\u001b[0m, in \u001b[0;36mpandas._libs.index.IndexEngine.get_loc\u001b[0;34m()\u001b[0m\n",
      "File \u001b[0;32mpandas/_libs/index.pyx:101\u001b[0m, in \u001b[0;36mpandas._libs.index.IndexEngine.get_loc\u001b[0;34m()\u001b[0m\n",
      "File \u001b[0;32mpandas/_libs/hashtable_class_helper.pxi:4554\u001b[0m, in \u001b[0;36mpandas._libs.hashtable.PyObjectHashTable.get_item\u001b[0;34m()\u001b[0m\n",
      "File \u001b[0;32mpandas/_libs/hashtable_class_helper.pxi:4562\u001b[0m, in \u001b[0;36mpandas._libs.hashtable.PyObjectHashTable.get_item\u001b[0;34m()\u001b[0m\n",
      "\u001b[0;31mKeyError\u001b[0m: 'family_history'",
      "\nThe above exception was the direct cause of the following exception:\n",
      "\u001b[0;31mKeyError\u001b[0m                                  Traceback (most recent call last)",
      "Cell \u001b[0;32mIn[36], line 1\u001b[0m\n\u001b[0;32m----> 1\u001b[0m \u001b[43mus_tech_mental\u001b[49m\u001b[43m[\u001b[49m\u001b[38;5;124;43m'\u001b[39;49m\u001b[38;5;124;43mfamily_history\u001b[39;49m\u001b[38;5;124;43m'\u001b[39;49m\u001b[43m]\u001b[49m\u001b[38;5;241m.\u001b[39munique()\n",
      "File \u001b[0;32m~/opt/anaconda3/lib/python3.8/site-packages/pandas/core/frame.py:3024\u001b[0m, in \u001b[0;36mDataFrame.__getitem__\u001b[0;34m(self, key)\u001b[0m\n\u001b[1;32m   3022\u001b[0m \u001b[38;5;28;01mif\u001b[39;00m \u001b[38;5;28mself\u001b[39m\u001b[38;5;241m.\u001b[39mcolumns\u001b[38;5;241m.\u001b[39mnlevels \u001b[38;5;241m>\u001b[39m \u001b[38;5;241m1\u001b[39m:\n\u001b[1;32m   3023\u001b[0m     \u001b[38;5;28;01mreturn\u001b[39;00m \u001b[38;5;28mself\u001b[39m\u001b[38;5;241m.\u001b[39m_getitem_multilevel(key)\n\u001b[0;32m-> 3024\u001b[0m indexer \u001b[38;5;241m=\u001b[39m \u001b[38;5;28;43mself\u001b[39;49m\u001b[38;5;241;43m.\u001b[39;49m\u001b[43mcolumns\u001b[49m\u001b[38;5;241;43m.\u001b[39;49m\u001b[43mget_loc\u001b[49m\u001b[43m(\u001b[49m\u001b[43mkey\u001b[49m\u001b[43m)\u001b[49m\n\u001b[1;32m   3025\u001b[0m \u001b[38;5;28;01mif\u001b[39;00m is_integer(indexer):\n\u001b[1;32m   3026\u001b[0m     indexer \u001b[38;5;241m=\u001b[39m [indexer]\n",
      "File \u001b[0;32m~/opt/anaconda3/lib/python3.8/site-packages/pandas/core/indexes/base.py:3082\u001b[0m, in \u001b[0;36mIndex.get_loc\u001b[0;34m(self, key, method, tolerance)\u001b[0m\n\u001b[1;32m   3080\u001b[0m         \u001b[38;5;28;01mreturn\u001b[39;00m \u001b[38;5;28mself\u001b[39m\u001b[38;5;241m.\u001b[39m_engine\u001b[38;5;241m.\u001b[39mget_loc(casted_key)\n\u001b[1;32m   3081\u001b[0m     \u001b[38;5;28;01mexcept\u001b[39;00m \u001b[38;5;167;01mKeyError\u001b[39;00m \u001b[38;5;28;01mas\u001b[39;00m err:\n\u001b[0;32m-> 3082\u001b[0m         \u001b[38;5;28;01mraise\u001b[39;00m \u001b[38;5;167;01mKeyError\u001b[39;00m(key) \u001b[38;5;28;01mfrom\u001b[39;00m \u001b[38;5;21;01merr\u001b[39;00m\n\u001b[1;32m   3084\u001b[0m \u001b[38;5;28;01mif\u001b[39;00m tolerance \u001b[38;5;129;01mis\u001b[39;00m \u001b[38;5;129;01mnot\u001b[39;00m \u001b[38;5;28;01mNone\u001b[39;00m:\n\u001b[1;32m   3085\u001b[0m     tolerance \u001b[38;5;241m=\u001b[39m \u001b[38;5;28mself\u001b[39m\u001b[38;5;241m.\u001b[39m_convert_tolerance(tolerance, np\u001b[38;5;241m.\u001b[39masarray(key))\n",
      "\u001b[0;31mKeyError\u001b[0m: 'family_history'"
     ]
    }
   ],
   "source": [
    "us_tech_mental['family_history'].unique()"
   ]
  },
  {
   "cell_type": "code",
   "execution_count": 37,
   "id": "61194c49-6dc4-4659-901f-e6ae86153cf6",
   "metadata": {},
   "outputs": [
    {
     "data": {
      "text/plain": [
       "array(['Rarely', 'Sometimes', 'Often', 'Never'], dtype=object)"
      ]
     },
     "execution_count": 37,
     "metadata": {},
     "output_type": "execute_result"
    }
   ],
   "source": [
    "us_tech_mental['work_interfere'].unique() #need to remove nan"
   ]
  },
  {
   "cell_type": "code",
   "execution_count": 38,
   "id": "817d32f2-eb60-4430-af57-9560edf355cc",
   "metadata": {
    "collapsed": true,
    "jupyter": {
     "outputs_hidden": true
    },
    "tags": []
   },
   "outputs": [
    {
     "data": {
      "text/plain": [
       "array(['Relatively new job. Ask again later',\n",
       "       'Sometimes I think  about using drugs for my mental health issues. If i use drugs I feel better',\n",
       "       'I selected my current employer based on its policies about self care and the quality of their overall health and wellness benefits. I still have residual caution from previous employers who ranged from ambivalent to indifferent to actively hostile regarding mental health concerns.',\n",
       "       \"Our health plan has covered my psychotherapy and my antidepressant medication. My manager has been aware but discreet throughout. I did get negative reviews when my depression was trashing my delivery but y'know I wasn't delivering.\",\n",
       "       \"I just started a new job last week hence a lot of don't know's\",\n",
       "       \"I've seen negative consequences towards mental health conditions in previous workplaces.Working remote is empowering in this way.\",\n",
       "       \"Had a co-worker disappear from work for a few weeks and then come back to let everyone know he was bipolar. His responsibilities and schedule were adjusted to accommodate but he got worse didn't show up didn't work etc and was eventually let go.It was tough because on the one hand he was struggling with some mental health issues but on the other hand he went through a period of months where he wasn't performing.\",\n",
       "       \"Family history of depression.  Currently dealing with depression and anxiety as well as drug addition.Employer provides & pays premiums on insurance which covers therapy and prescriptions.  Employer allows work-from-home and unlimited PTO which makes episodes easier to control.I don't speak of my problems to anyone at work except for the people that I consider friends and even then I don't go into great detail.I would never bring up a mental health issue during an interview for fear of discrimination and rejection (and therefore greater depression).  One co-worker had serious anxiety problems and would not inform his team of episodes and was eventually let go for being unresponsive.\",\n",
       "       \"Many of these questions become irrelevant once 'Yes' is selected for 'Are you self-employed'.  It would be preferable for there to be a 'Not Relevant' option on these.\",\n",
       "       \"I am not sure about my company's healthcare because I've opted out of it and I'm covered under another policy.I currently work at a great company though in past jobs I don't think I would have felt comfortable talking about mental health at all.\",\n",
       "       'In small startups it is very hard to keep mental health issues truly private no matter what management does.',\n",
       "       \"My seniority at the company and rapport with the owners has helped me gain support for seeking help regarding my mental health as well as being able to take time off or work from home when an episode starts.However I don't feel that the company's stance on mental health is as clear as say something like vision or dental.  There's very much a stigma.\",\n",
       "       'Many of these questions were difficult to answer as a self-employed person; I did my best with the available options.',\n",
       "       'A strong mind goes a long way. Stay strong. Take some time off to help. Its all in your head. ',\n",
       "       'I found it difficult to answer all of the questions effectively as many of them would depend on the nature of the mental health issues as some seem more socially accepted than others. For some people telling your current supervisor that you have a history of bi-polar disorder might be easier than telling a potential employer that you have a history of compulsive gambling. They might both be bits of irrelevant information (past behavior and not indicators of future behavior). However western culture pushes us to appear as capable as possible to our supervisors in pursuit of excellence in our work. Providing information that could create a negative bias seems like a more genuine and yet more risky approach to the discussion.',\n",
       "       'I have only discussed my mental illness with close family members. I feel completely uncomfortable discussing with anyone at my place of employment as I am concerned it would have negative consequences.',\n",
       "       'No benefits at this organization but my employer/direct supervisor has had positive and constructive conversations with me about physical and mental health. Supervisor offered solutions advice time/energy to get help if I ever felt that needed it. (though it would have to be at my own expense). I feel safe sharing personal info with this particular person/company but this environment is the exception rather than the norm in my 15+ years as a tech worker. I would never feel safe enough to reveal info about any mental health concerns with any previous employers in the tech industry for fear of  negative perceptions job loss performance dings etc. ',\n",
       "       'I think I am very lucky in my workplace. Our CEO has a degree in psychology.',\n",
       "       'The form of mental health problem that I suffer is anxiety.',\n",
       "       'The thought of going through my employer directly to get help is fucking scary.Getting help is the hardest part of getting help.',\n",
       "       \"Regardless of a stated lack of negative consequences for discussing mental health issues with coworkers/superiors unconscious bias is a very real thing - as long as I don't *need* to inform my co-workers my mental health issues do not need to be public knowledge.\",\n",
       "       'YOU MAY WANT TO THROW OUT MY ENTRY.I answered all of these questions with the assumption that Attention Deficit Disorder is considered a mental illness and with ADD in mind.',\n",
       "       'My refer to the mental health issue of depression.  I might answer differently if I was talking about a more serious issue like schizophrenia',\n",
       "       'My employer does what they can providing a wellness program and pointing it out after particularly stressful times. But the interaction between the wellness program and the medical insurance is unpleasant and finding a long-term therapist / psychiatrist covered by insurance is amazingly difficult. My current lack of active treatment is due to insurance friction more than workplace friction.',\n",
       "       'I work for a university.',\n",
       "       \"I'm troubled by the way that our hiring process tends to filter out non-neurotypicals of all stripes. Competent people who act a little funny can be hard to hire.\",\n",
       "       \"I talked to a psychiatrist once about taking medical leave for mental health issues with his referral. He was willing to help but warned me that I may not want to as he's seen that sort of thing follow people throughout their tech careers (word gets out even if it's confidential at work). I've been terrified of bringing mental health up anywhere that coworkers or potential employers could see ever since.\",\n",
       "       'So much depends upon the organization. ',\n",
       "       \"Now at starutp.  Previously worked at big tech company which was actually quite good at supporting mental health issues.  Still wouldn't share with bosses/other employees though as there remains a strong negative stigma.\",\n",
       "       \"I currently have the best managers I've ever worked with. I don't have any issues but one of my coworkers recently did and it was handled extremely well. \",\n",
       "       \"Stigma is the worst. People first language is a small step but we can't get that right.\",\n",
       "       'I work for an extremely supportive company and we are amazingly open about mental health issues. Employees often share their struggles with the whole team and receive a high level of support in return.',\n",
       "       'Mental health issue I have dealt with: acute depression',\n",
       "       'Thanks for doing this. It will help end the stigma!',\n",
       "       'It has come to interfere with work as life progresses.Between burn out and enduring more of the work and balancing a family. Changes in my mental health have a larger pond to make ripples in.',\n",
       "       \"Because I'm self-employed and the only person in my organization I would have liked a not applicable option. I don't want my answers to be misleading.\",\n",
       "       \"I work for a very small firm that doesn't really have a dedicated H/R person. Also for the question:If you have a mental health condition do you feel that it interferes with your work?...I don't have a diagnosed mental health condition but I suspect I might have some slight depression issues. Definitely have Imposter Syndrome.\",\n",
       "       \"I went through a divorce and was pretty depressed I went to therapy and my boss (one of the owners) was extremely supportive. I'm not sure I would have got through that rough time with out my co-workers and boss.\",\n",
       "       \"I'm diagnosed with Bipolar Disorder. My benefits for mental health exist but are terrible. The deductible is $800. I see a therapist once or twice a month at the cost of $150. The insurance company only values it at $40. My psychiatrist is $180 for 15 minutes. The insurance company values it at $80. It is IMPOSSIBLE to hit my deductible. I don't even bother making the claims.\",\n",
       "       \"thanks for what you're doing. FYI these questions dont quite work for entrepreneurs where employer == cofounders / sr mgmt / me\",\n",
       "       \"I mostly suffer from social anxiety which keeps me from attending conferences. In my small dev group a big problem is a supervisor who's a workaholic and will never say no when asked to do something so he's doing the job of at least two ppl (poorly) and working crazy hours setting the tone for the test of us that work/life balance isn't important.\",\n",
       "       \"I am a 15 year vet of the industry and I get 2 weeks of combined sick and vacation time a year and I have children to fit into that too. I've had heart problems from the stress. Fuck everything about startup culture. \",\n",
       "       \"Since I am the CEO of my startup some of the would you feel comfortable and do you know the policy questions are interesting.  Of course I feel comfortable since no one can fire me and I know the policies because I chose them!However now I am curious if my employees know just how supportive the company would be of their mental health needs and this survey is making me realize that we probably haven't done a great job communicating that to everyone.  Thanks for doing this.\",\n",
       "       \"I work for the state so the health plan is large and cumbersome.  I believe it covers most medical as a state benefit but I haven't seen any promotion of it.  And it's not really the same as a tech company where I am.  We are an IT department but hardly run like any tech company around.\",\n",
       "       'I have Narcolepsy and have been fired from a job before for falling asleep standing up during a meeting. I was standing up in the back of the room so that i could pace and try to prevent myself from falling asleep. I still managed to fall asleep while standing and fell over against the wall. I was fired the next day. The worst part is this is a condition i had given months of notice about to my boss and i reminded her of it before the meeting. I worked at a hospital at the time. I would have thought that they would be more accommodating.',\n",
       "       \"My current work situation was constructed in part because of my mental health issues. One of the reasons I'm self employed is to give me the most flexibility for coping with my mental health issues.I have been removed from a client project in the past because of a mental health condition. This was while I was an employee for a large consulting company. \",\n",
       "       \"I work for the state government. While things are slowly changing regarding covering mental health with state employees it's just not something that is acceptable in this kind of strict environment so I have to be careful about what I say and how I say it. I often take mental health days but have to call in with a physical illness because mental health problems are not acceptable excuses for using sick leave.\",\n",
       "       \"It might be safe to talk about it where I am now but I don't know for sure and I err on the side of being over cautious. Struggle with depression and anxiety which sometimes affects my productivity but I try to make up / cover up for it instead of being open about it.\",\n",
       "       \"I'm comfortable talking about mental health with my current supervisor & my immediate at my current job but this is a first for me!\",\n",
       "       'None of us who are already in marginal groups in tech--the non-young the non-male the non-white--will risk our careers to admit another source of stigma: poor health.',\n",
       "       \"I have been incredibly public about my own struggle in my own conversations and in social media insofar as how I can use my depression to raise awareness or help others. Because of that my employer - or any future employer - kind of knows by default. It's not a secret. That said the downside of that openness is that I have no faith that I wouldn't be discriminated against at a future job simply because the information is public. Likewise I worry I'm seen as less-than by my employer in some circumstances. Regerdless I don't regret being public and raising awareness. My point is that even those of us who do publicly discuss the issue fear systemic retribution. \",\n",
       "       'At a previous employer I witness a bad thing happen to a coworker with mental health issues get swept under the rug... :(',\n",
       "       'While not personally affected I do have immediate family with mental health illness and my employer has been very supportive. Thanks for doing this survey.',\n",
       "       \"The main reason for the openness answers are because of an experience with my last employer. I felt I could trust my direct supervisor so I divulged information. It ended up spreading to more supervisors and eventually my coworkers. Supers highly suggested treatment but rushed things that shouldn't have been rushed and I ended up being incorrectly treated in a psych ward and mentally scarred from the issue. I lost most of my desire to program due to the experience not to mention thousands of dollars I lost - lost work time vacation time they used for treatment time doctors expenses etc. I have major depressive disorder high anxiety and mild agoraphobia. After seeing what treatment has to offer I will likely not seek it again and continue as is. (Long story short.)\",\n",
       "       '(yes but the situation was unusual and involved a change in leadership at a very high level in the organization as well as an extended leave of absence)',\n",
       "       \"I would add that while there were negative consequences for coworkers with mental health they were given a HUGE amount of leeway.  I think the team at large tried their best to be kind but that's how the person suffered.  The company actually gave this person a lot of help.  Which was cool.  But the team still discriminated.\",\n",
       "       'Bipolar spectrum is tricky.',\n",
       "       \"A lot of these answers aren't really applicable since I'm self employed as a sole proprietor.\",\n",
       "       'While I have not seen any direct retaliation against people with known mental illness many people do freely use insults commonly associated with mental illness (r****d for example) and criticize people behind their back for taking extra leave for doctor appointments (Oh I bet they are just hung over or other comments about how lazy they are.)',\n",
       "       '* Small family business - YMMV.',\n",
       "       \"I have an exceptional employer. I haven't run into problems with any employer I've had but consider myself lucky.\",\n",
       "       'Thank you for shining a light on this topic.',\n",
       "       'While mental health is a part of our insurance program the UCR is 50% of 140% of medicare which means a solo mental health practitioner who will charge in my area $150-$180 a session will only result in a $45-$60 reimbursement and thus a very high out of pocket expense. This usage of a different schedule for UCR and often the lower rate is very hard to determine before purchasing insurance even in the new health insurance exchanges.',\n",
       "       \"My employer is extremely easy to work with and e.g. I have enormous leeway with flex time so I could take care of myself under that umbrella but I don't know and don't have a history of bring up mental health at the workplace so I am cautious in that area.\",\n",
       "       'I should note one of the places my employer fails with regards to mental health is that the company-paid health insurance policy does not cover trans healthcare needs.',\n",
       "       \"I've never heard of a workplace that would actually allow you to call off for mental health reasons. So many places require a doctor's note for calling off sick. It's all set up to make you feel worse if you can't just suck it up. Thanks for working to change this!!!\",\n",
       "       'This survey was tough as a self-employed individual. You may wish to discard responses from self employed people for much of your analysis.',\n",
       "       \"I answered based on previous job at large technical company where I was pushed out of my role within 3 months of disclosing diagnosis.I had been struggling for 3 months prior to disclosure and was incredibly relieved when finally diagnosed. Growing up in a family open about mental health and also at the end of my rope I immediately shared with management what was going on. I requested a temporary reduced workload so I could reduce anxiety. (At time I didn't know it was anxiety as took me a year to accept that the (to me) deserved stress was anxiety caused by my core diagnosis.) When disclosing I didn't deeply understand details of the state of my mental health; I simply knew I was so stressed out by having been unable to get myself to do work in three months that I couldn't juggle all that was currently on my plate.It was at this point my direct manager and I began an almost daily struggle. After working on a single project and making progress (compared to 3 months before diagnosis when management didn't even know how bad I was doing) I requested increasing my workload. This was never granted; boss said I hadn't proved myself and implied I could not be trusted.Two huge issues stick out to me from that experience:1) Company assumes things would be better and back to 100% within months. They did not understand what one goes through when figuring out meds: things at times got worse. They did not understand how long it takes until meds are figured out: mine took two years. They most certainly would not truly understand why to this day four years later despite being stable I'm in counseling every other week in addition to being on meds. Rather than supporting that it would be seen as oh I'm sorry. I was a problem to my manager because he didn't see improvements each week.2) Accomodations.- There was no option for me to reduce work temporarily to part-time (too complicated). Instead they pushed me to take disability leave. I told them that wouldn't help; they told me to double-check with care providers. That required me to see a psychologist unnecessarily as psychologist said I didn't qualify for leave. (Expensive unnecessary appointment).- The assistance I needed the most at work was understanding: I was open but my manager told me to not tell my co-worker assigned to support me. That was disasterous for colleague's stress/frustration levels. He knew something was up but was barred from asking and I was implied it was better to keep my mouth shut.- Accommodations weren't understood by even Benefits as they're not trained in mental health nor do they have people come in to assess how they're doing in supporting those with mental health issues. Should be no different than people coming in to assess for physical accessibility of the workplace. When in a meeting with my manager supervised by HR I shouldn't feel like I'm asking too much of manager when requesting he put the negative critiques on the back burner and help me figure out whether I'm doing anything right. That this didn't stop him from coming into my office that same day and putting on my dick hat to yell at me for something that wasn't even my fault (he had brought in co-worker for this yelling and turned to finish yelling at this person): FUCKING UNACCEPTABLE.While I will never return to that company and as such took the severance package I will NEVER agree with their legal reason for being unable to do the job: me being medically disqualified from this role. I was too expensive in the short term for them; I'm not worth the cost.\",\n",
       "       'If a man in tech is afraid of speaking up about these things it is even worse for women in tech who are already fearful of and fighting against the stigma of incompetence.  On the other hand if a female in tech does not commiserate with her male coworkers on mental health problems she will no longer be seen as a team player. It is really a catch-22 for women in STEM.',\n",
       "       'This issue for me is very real at the moment. I have missed several days of work recently because of a bad reaction to a depression/anxiety drug and I hate not being able to discuss it with my boss without worrying that I will be labeled a liability. ',\n",
       "       'Really manager dependent. I have had managers who work with my strengths and others who want my to work on my weaknesses which are directly tied to my mental issues. ',\n",
       "       \"I was (wrongly) diagnosed clinically depressed at 12 then bipolar I at 15 and medicated for a decade until decided myself to go drug free. Since then I've never been happier. Insomnia and my insatiablility for learning and programming have always had a symbiotic  relationship.It might also bear mentioning that I'm self-employed in addition to my more traditional day job.\",\n",
       "       'My employer currently does not offer any health insurance I have to get that on my own.  However at past positions I have had health insurance but no one ever mentioned mental health issues nor would I wish to discuss those with my co-workers bosses etc for fear of negative reception.',\n",
       "       'password: testered',\n",
       "       'People have often felt uncomfortable with my story while most of it happened a decade ago. I used to be quite open about it and have since kept it quietly tucked away. While I sometimes have waves of depression I have learned to cope with the affects.',\n",
       "       \"I'm self-employed on contract with small start-up. Covered through spouse's insurance.\",\n",
       "       \"My mental health issues were the direct result of the trauma from childhood abuse. Most (all?) of the Prompt-sponsored/related presentations I've seen have been about congenital mental health issues that are treatable with continued medication. For me medication only provided temporary assistance. I needed years of (continuing) therapy to deal with PTSD and related disorders (depression anxiety suicidal tendencies others). I haven't seen many in our community discussing trauma-related mental health issues but they are just as real and just as debilitating.\",\n",
       "       \"I openly discuss my mental health struggles. I have found that doing so encourages people who also struggle to seek treatment. I'm willing to risk losing the support of people who don't understand if it helps those who understand all too well.\",\n",
       "       \"Just starting a new job hence the numerous I don't know selections.\",\n",
       "       'Bipolar disorder '], dtype=object)"
      ]
     },
     "execution_count": 38,
     "metadata": {},
     "output_type": "execute_result"
    }
   ],
   "source": [
    "us_tech_mental['comments'].unique() #need to remove nan"
   ]
  },
  {
   "cell_type": "code",
   "execution_count": 39,
   "id": "2649f258-c983-41af-b560-24da005d55d0",
   "metadata": {},
   "outputs": [
    {
     "data": {
      "text/plain": [
       "Index(['Age', 'Gender', 'state', 'self_employed', 'treatment',\n",
       "       'work_interfere', 'Number of Employees', 'remote_work', 'Tech Company',\n",
       "       'seek_help', 'mental_health_consequence', 'comments'],\n",
       "      dtype='object')"
      ]
     },
     "execution_count": 39,
     "metadata": {},
     "output_type": "execute_result"
    }
   ],
   "source": [
    "us_tech_mental.columns.unique()"
   ]
  },
  {
   "cell_type": "code",
   "execution_count": 40,
   "id": "09559d70-62a4-47cf-b60e-d4883a56ded1",
   "metadata": {},
   "outputs": [],
   "source": [
    "# Change column names\n",
    "new_column_names = {'state': 'State', 'self_employed': 'Self Employed', \n",
    "                   \n",
    "                   'work_interfere': 'Work Interfere',\n",
    "                    'remote_work': 'Remote Work',\n",
    "                    'seek_help': 'Seek Help',\n",
    "                    'mental_health_consequence': 'Mental Health Consequence',\n",
    "                    'comments': 'Comments'                   \n",
    "                   }\n",
    "us_tech_mental = us_tech_mental.rename(columns=new_column_names)"
   ]
  },
  {
   "cell_type": "code",
   "execution_count": 41,
   "id": "dab5c31b-340f-4fad-b3ce-879bdafc437e",
   "metadata": {},
   "outputs": [],
   "source": [
    "us_tech_mental = us_tech_mental.rename(columns={'no_employees':'Number of Employees', 'tech_company':'Tech Company'})"
   ]
  },
  {
   "cell_type": "code",
   "execution_count": 42,
   "id": "146fbaea-0bdc-4e02-adea-98f3ca7f0ae1",
   "metadata": {},
   "outputs": [],
   "source": [
    "us_tech_mental = us_tech_mental.rename(columns={'treatment':'Treatment'})"
   ]
  },
  {
   "cell_type": "code",
   "execution_count": 43,
   "id": "c4d621fe-2c29-4e64-bb38-b65da8d98521",
   "metadata": {},
   "outputs": [
    {
     "data": {
      "text/html": [
       "<div>\n",
       "<style scoped>\n",
       "    .dataframe tbody tr th:only-of-type {\n",
       "        vertical-align: middle;\n",
       "    }\n",
       "\n",
       "    .dataframe tbody tr th {\n",
       "        vertical-align: top;\n",
       "    }\n",
       "\n",
       "    .dataframe thead th {\n",
       "        text-align: right;\n",
       "    }\n",
       "</style>\n",
       "<table border=\"1\" class=\"dataframe\">\n",
       "  <thead>\n",
       "    <tr style=\"text-align: right;\">\n",
       "      <th></th>\n",
       "      <th>Age</th>\n",
       "      <th>Gender</th>\n",
       "      <th>State</th>\n",
       "      <th>Self Employed</th>\n",
       "      <th>Treatment</th>\n",
       "      <th>Work Interfere</th>\n",
       "      <th>Number of Employees</th>\n",
       "      <th>Remote Work</th>\n",
       "      <th>Tech Company</th>\n",
       "      <th>Seek Help</th>\n",
       "      <th>Mental Health Consequence</th>\n",
       "      <th>Comments</th>\n",
       "    </tr>\n",
       "  </thead>\n",
       "  <tbody>\n",
       "    <tr>\n",
       "      <th>24</th>\n",
       "      <td>33</td>\n",
       "      <td>Male</td>\n",
       "      <td>CA</td>\n",
       "      <td>No</td>\n",
       "      <td>Yes</td>\n",
       "      <td>Rarely</td>\n",
       "      <td>26-100</td>\n",
       "      <td>No</td>\n",
       "      <td>Yes</td>\n",
       "      <td>Yes</td>\n",
       "      <td>No</td>\n",
       "      <td>Relatively new job. Ask again later</td>\n",
       "    </tr>\n",
       "    <tr>\n",
       "      <th>25</th>\n",
       "      <td>35</td>\n",
       "      <td>Male</td>\n",
       "      <td>TN</td>\n",
       "      <td>No</td>\n",
       "      <td>Yes</td>\n",
       "      <td>Sometimes</td>\n",
       "      <td>More than 1000</td>\n",
       "      <td>No</td>\n",
       "      <td>No</td>\n",
       "      <td>Don't know</td>\n",
       "      <td>Yes</td>\n",
       "      <td>Sometimes I think  about using drugs for my me...</td>\n",
       "    </tr>\n",
       "    <tr>\n",
       "      <th>33</th>\n",
       "      <td>42</td>\n",
       "      <td>Male</td>\n",
       "      <td>WA</td>\n",
       "      <td>No</td>\n",
       "      <td>Yes</td>\n",
       "      <td>Sometimes</td>\n",
       "      <td>26-100</td>\n",
       "      <td>Yes</td>\n",
       "      <td>Yes</td>\n",
       "      <td>Yes</td>\n",
       "      <td>Maybe</td>\n",
       "      <td>I selected my current employer based on its po...</td>\n",
       "    </tr>\n",
       "  </tbody>\n",
       "</table>\n",
       "</div>"
      ],
      "text/plain": [
       "    Age Gender State Self Employed Treatment Work Interfere  \\\n",
       "24   33   Male    CA            No       Yes         Rarely   \n",
       "25   35   Male    TN            No       Yes      Sometimes   \n",
       "33   42   Male    WA            No       Yes      Sometimes   \n",
       "\n",
       "   Number of Employees Remote Work Tech Company   Seek Help  \\\n",
       "24              26-100          No          Yes         Yes   \n",
       "25      More than 1000          No           No  Don't know   \n",
       "33              26-100         Yes          Yes         Yes   \n",
       "\n",
       "   Mental Health Consequence  \\\n",
       "24                        No   \n",
       "25                       Yes   \n",
       "33                     Maybe   \n",
       "\n",
       "                                             Comments  \n",
       "24                Relatively new job. Ask again later  \n",
       "25  Sometimes I think  about using drugs for my me...  \n",
       "33  I selected my current employer based on its po...  "
      ]
     },
     "execution_count": 43,
     "metadata": {},
     "output_type": "execute_result"
    }
   ],
   "source": [
    "us_tech_mental.head(3)"
   ]
  },
  {
   "cell_type": "code",
   "execution_count": 44,
   "id": "12e03f76-d214-4c9f-b980-5b028598d252",
   "metadata": {
    "collapsed": true,
    "jupyter": {
     "outputs_hidden": true
    },
    "tags": []
   },
   "outputs": [
    {
     "ename": "KeyError",
     "evalue": "\"['Country' 'Timestamp' 'phys_health_consequence' 'mental_health_interview'\\n 'phys_health_interview' 'mental_vs_physical' 'leave' 'obs_consequence'\\n 'anonymity' 'wellness_program' 'supervisor' 'coworkers' 'benefits'\\n 'care_options'] not found in axis\"",
     "output_type": "error",
     "traceback": [
      "\u001b[0;31m---------------------------------------------------------------------------\u001b[0m",
      "\u001b[0;31mKeyError\u001b[0m                                  Traceback (most recent call last)",
      "Cell \u001b[0;32mIn[44], line 1\u001b[0m\n\u001b[0;32m----> 1\u001b[0m \u001b[43mus_tech_mental\u001b[49m\u001b[38;5;241;43m.\u001b[39;49m\u001b[43mdrop\u001b[49m\u001b[43m(\u001b[49m\u001b[43mcolumns\u001b[49m\u001b[38;5;241;43m=\u001b[39;49m\u001b[43m[\u001b[49m\u001b[38;5;124;43m'\u001b[39;49m\u001b[38;5;124;43mCountry\u001b[39;49m\u001b[38;5;124;43m'\u001b[39;49m\u001b[43m,\u001b[49m\u001b[38;5;124;43m'\u001b[39;49m\u001b[38;5;124;43mTimestamp\u001b[39;49m\u001b[38;5;124;43m'\u001b[39;49m\u001b[43m,\u001b[49m\u001b[38;5;124;43m'\u001b[39;49m\u001b[38;5;124;43mphys_health_consequence\u001b[39;49m\u001b[38;5;124;43m'\u001b[39;49m\u001b[43m,\u001b[49m\u001b[38;5;124;43m'\u001b[39;49m\u001b[38;5;124;43mmental_health_interview\u001b[39;49m\u001b[38;5;124;43m'\u001b[39;49m\u001b[43m,\u001b[49m\u001b[38;5;124;43m'\u001b[39;49m\u001b[38;5;124;43mphys_health_interview\u001b[39;49m\u001b[38;5;124;43m'\u001b[39;49m\u001b[43m,\u001b[49m\u001b[38;5;124;43m'\u001b[39;49m\u001b[38;5;124;43mmental_vs_physical\u001b[39;49m\u001b[38;5;124;43m'\u001b[39;49m\u001b[43m,\u001b[49m\u001b[38;5;124;43m'\u001b[39;49m\u001b[38;5;124;43mleave\u001b[39;49m\u001b[38;5;124;43m'\u001b[39;49m\u001b[43m,\u001b[49m\u001b[38;5;124;43m'\u001b[39;49m\u001b[38;5;124;43mobs_consequence\u001b[39;49m\u001b[38;5;124;43m'\u001b[39;49m\u001b[43m,\u001b[49m\u001b[43m \u001b[49m\u001b[38;5;124;43m'\u001b[39;49m\u001b[38;5;124;43manonymity\u001b[39;49m\u001b[38;5;124;43m'\u001b[39;49m\u001b[43m,\u001b[49m\u001b[38;5;124;43m'\u001b[39;49m\u001b[38;5;124;43mwellness_program\u001b[39;49m\u001b[38;5;124;43m'\u001b[39;49m\u001b[43m,\u001b[49m\u001b[38;5;124;43m'\u001b[39;49m\u001b[38;5;124;43msupervisor\u001b[39;49m\u001b[38;5;124;43m'\u001b[39;49m\u001b[43m,\u001b[49m\u001b[38;5;124;43m'\u001b[39;49m\u001b[38;5;124;43mcoworkers\u001b[39;49m\u001b[38;5;124;43m'\u001b[39;49m\u001b[43m,\u001b[49m\u001b[43m \u001b[49m\u001b[38;5;124;43m'\u001b[39;49m\u001b[38;5;124;43mbenefits\u001b[39;49m\u001b[38;5;124;43m'\u001b[39;49m\u001b[43m,\u001b[49m\u001b[38;5;124;43m'\u001b[39;49m\u001b[38;5;124;43mcare_options\u001b[39;49m\u001b[38;5;124;43m'\u001b[39;49m\u001b[43m]\u001b[49m\u001b[43m,\u001b[49m\u001b[43m \u001b[49m\u001b[43maxis\u001b[49m\u001b[38;5;241;43m=\u001b[39;49m\u001b[38;5;241;43m1\u001b[39;49m\u001b[43m,\u001b[49m\u001b[43m \u001b[49m\u001b[43minplace\u001b[49m\u001b[38;5;241;43m=\u001b[39;49m\u001b[38;5;28;43;01mTrue\u001b[39;49;00m\u001b[43m)\u001b[49m\n\u001b[1;32m      2\u001b[0m \u001b[38;5;66;03m# us_tech_mental.drop(columns=['anonymity','wellness_program'], axis=1, inplace = True)\u001b[39;00m\n\u001b[1;32m      3\u001b[0m \n\u001b[1;32m      4\u001b[0m \u001b[38;5;66;03m#us_tech_mental.drop(columns=['supervisor','coworkers', 'self_employed', 'benefits','care_options'], axis=1, inplace = True)\u001b[39;00m\n",
      "File \u001b[0;32m~/opt/anaconda3/lib/python3.8/site-packages/pandas/core/frame.py:4308\u001b[0m, in \u001b[0;36mDataFrame.drop\u001b[0;34m(self, labels, axis, index, columns, level, inplace, errors)\u001b[0m\n\u001b[1;32m   4178\u001b[0m \u001b[38;5;28;01mdef\u001b[39;00m \u001b[38;5;21mdrop\u001b[39m(\n\u001b[1;32m   4179\u001b[0m     \u001b[38;5;28mself\u001b[39m,\n\u001b[1;32m   4180\u001b[0m     labels\u001b[38;5;241m=\u001b[39m\u001b[38;5;28;01mNone\u001b[39;00m,\n\u001b[0;32m   (...)\u001b[0m\n\u001b[1;32m   4186\u001b[0m     errors\u001b[38;5;241m=\u001b[39m\u001b[38;5;124m\"\u001b[39m\u001b[38;5;124mraise\u001b[39m\u001b[38;5;124m\"\u001b[39m,\n\u001b[1;32m   4187\u001b[0m ):\n\u001b[1;32m   4188\u001b[0m     \u001b[38;5;124;03m\"\"\"\u001b[39;00m\n\u001b[1;32m   4189\u001b[0m \u001b[38;5;124;03m    Drop specified labels from rows or columns.\u001b[39;00m\n\u001b[1;32m   4190\u001b[0m \n\u001b[0;32m   (...)\u001b[0m\n\u001b[1;32m   4306\u001b[0m \u001b[38;5;124;03m            weight  1.0     0.8\u001b[39;00m\n\u001b[1;32m   4307\u001b[0m \u001b[38;5;124;03m    \"\"\"\u001b[39;00m\n\u001b[0;32m-> 4308\u001b[0m     \u001b[38;5;28;01mreturn\u001b[39;00m \u001b[38;5;28;43msuper\u001b[39;49m\u001b[43m(\u001b[49m\u001b[43m)\u001b[49m\u001b[38;5;241;43m.\u001b[39;49m\u001b[43mdrop\u001b[49m\u001b[43m(\u001b[49m\n\u001b[1;32m   4309\u001b[0m \u001b[43m        \u001b[49m\u001b[43mlabels\u001b[49m\u001b[38;5;241;43m=\u001b[39;49m\u001b[43mlabels\u001b[49m\u001b[43m,\u001b[49m\n\u001b[1;32m   4310\u001b[0m \u001b[43m        \u001b[49m\u001b[43maxis\u001b[49m\u001b[38;5;241;43m=\u001b[39;49m\u001b[43maxis\u001b[49m\u001b[43m,\u001b[49m\n\u001b[1;32m   4311\u001b[0m \u001b[43m        \u001b[49m\u001b[43mindex\u001b[49m\u001b[38;5;241;43m=\u001b[39;49m\u001b[43mindex\u001b[49m\u001b[43m,\u001b[49m\n\u001b[1;32m   4312\u001b[0m \u001b[43m        \u001b[49m\u001b[43mcolumns\u001b[49m\u001b[38;5;241;43m=\u001b[39;49m\u001b[43mcolumns\u001b[49m\u001b[43m,\u001b[49m\n\u001b[1;32m   4313\u001b[0m \u001b[43m        \u001b[49m\u001b[43mlevel\u001b[49m\u001b[38;5;241;43m=\u001b[39;49m\u001b[43mlevel\u001b[49m\u001b[43m,\u001b[49m\n\u001b[1;32m   4314\u001b[0m \u001b[43m        \u001b[49m\u001b[43minplace\u001b[49m\u001b[38;5;241;43m=\u001b[39;49m\u001b[43minplace\u001b[49m\u001b[43m,\u001b[49m\n\u001b[1;32m   4315\u001b[0m \u001b[43m        \u001b[49m\u001b[43merrors\u001b[49m\u001b[38;5;241;43m=\u001b[39;49m\u001b[43merrors\u001b[49m\u001b[43m,\u001b[49m\n\u001b[1;32m   4316\u001b[0m \u001b[43m    \u001b[49m\u001b[43m)\u001b[49m\n",
      "File \u001b[0;32m~/opt/anaconda3/lib/python3.8/site-packages/pandas/core/generic.py:4153\u001b[0m, in \u001b[0;36mNDFrame.drop\u001b[0;34m(self, labels, axis, index, columns, level, inplace, errors)\u001b[0m\n\u001b[1;32m   4151\u001b[0m \u001b[38;5;28;01mfor\u001b[39;00m axis, labels \u001b[38;5;129;01min\u001b[39;00m axes\u001b[38;5;241m.\u001b[39mitems():\n\u001b[1;32m   4152\u001b[0m     \u001b[38;5;28;01mif\u001b[39;00m labels \u001b[38;5;129;01mis\u001b[39;00m \u001b[38;5;129;01mnot\u001b[39;00m \u001b[38;5;28;01mNone\u001b[39;00m:\n\u001b[0;32m-> 4153\u001b[0m         obj \u001b[38;5;241m=\u001b[39m \u001b[43mobj\u001b[49m\u001b[38;5;241;43m.\u001b[39;49m\u001b[43m_drop_axis\u001b[49m\u001b[43m(\u001b[49m\u001b[43mlabels\u001b[49m\u001b[43m,\u001b[49m\u001b[43m \u001b[49m\u001b[43maxis\u001b[49m\u001b[43m,\u001b[49m\u001b[43m \u001b[49m\u001b[43mlevel\u001b[49m\u001b[38;5;241;43m=\u001b[39;49m\u001b[43mlevel\u001b[49m\u001b[43m,\u001b[49m\u001b[43m \u001b[49m\u001b[43merrors\u001b[49m\u001b[38;5;241;43m=\u001b[39;49m\u001b[43merrors\u001b[49m\u001b[43m)\u001b[49m\n\u001b[1;32m   4155\u001b[0m \u001b[38;5;28;01mif\u001b[39;00m inplace:\n\u001b[1;32m   4156\u001b[0m     \u001b[38;5;28mself\u001b[39m\u001b[38;5;241m.\u001b[39m_update_inplace(obj)\n",
      "File \u001b[0;32m~/opt/anaconda3/lib/python3.8/site-packages/pandas/core/generic.py:4188\u001b[0m, in \u001b[0;36mNDFrame._drop_axis\u001b[0;34m(self, labels, axis, level, errors)\u001b[0m\n\u001b[1;32m   4186\u001b[0m         new_axis \u001b[38;5;241m=\u001b[39m axis\u001b[38;5;241m.\u001b[39mdrop(labels, level\u001b[38;5;241m=\u001b[39mlevel, errors\u001b[38;5;241m=\u001b[39merrors)\n\u001b[1;32m   4187\u001b[0m     \u001b[38;5;28;01melse\u001b[39;00m:\n\u001b[0;32m-> 4188\u001b[0m         new_axis \u001b[38;5;241m=\u001b[39m \u001b[43maxis\u001b[49m\u001b[38;5;241;43m.\u001b[39;49m\u001b[43mdrop\u001b[49m\u001b[43m(\u001b[49m\u001b[43mlabels\u001b[49m\u001b[43m,\u001b[49m\u001b[43m \u001b[49m\u001b[43merrors\u001b[49m\u001b[38;5;241;43m=\u001b[39;49m\u001b[43merrors\u001b[49m\u001b[43m)\u001b[49m\n\u001b[1;32m   4189\u001b[0m     result \u001b[38;5;241m=\u001b[39m \u001b[38;5;28mself\u001b[39m\u001b[38;5;241m.\u001b[39mreindex(\u001b[38;5;241m*\u001b[39m\u001b[38;5;241m*\u001b[39m{axis_name: new_axis})\n\u001b[1;32m   4191\u001b[0m \u001b[38;5;66;03m# Case for non-unique axis\u001b[39;00m\n\u001b[1;32m   4192\u001b[0m \u001b[38;5;28;01melse\u001b[39;00m:\n",
      "File \u001b[0;32m~/opt/anaconda3/lib/python3.8/site-packages/pandas/core/indexes/base.py:5591\u001b[0m, in \u001b[0;36mIndex.drop\u001b[0;34m(self, labels, errors)\u001b[0m\n\u001b[1;32m   5589\u001b[0m \u001b[38;5;28;01mif\u001b[39;00m mask\u001b[38;5;241m.\u001b[39many():\n\u001b[1;32m   5590\u001b[0m     \u001b[38;5;28;01mif\u001b[39;00m errors \u001b[38;5;241m!=\u001b[39m \u001b[38;5;124m\"\u001b[39m\u001b[38;5;124mignore\u001b[39m\u001b[38;5;124m\"\u001b[39m:\n\u001b[0;32m-> 5591\u001b[0m         \u001b[38;5;28;01mraise\u001b[39;00m \u001b[38;5;167;01mKeyError\u001b[39;00m(\u001b[38;5;124mf\u001b[39m\u001b[38;5;124m\"\u001b[39m\u001b[38;5;132;01m{\u001b[39;00mlabels[mask]\u001b[38;5;132;01m}\u001b[39;00m\u001b[38;5;124m not found in axis\u001b[39m\u001b[38;5;124m\"\u001b[39m)\n\u001b[1;32m   5592\u001b[0m     indexer \u001b[38;5;241m=\u001b[39m indexer[\u001b[38;5;241m~\u001b[39mmask]\n\u001b[1;32m   5593\u001b[0m \u001b[38;5;28;01mreturn\u001b[39;00m \u001b[38;5;28mself\u001b[39m\u001b[38;5;241m.\u001b[39mdelete(indexer)\n",
      "\u001b[0;31mKeyError\u001b[0m: \"['Country' 'Timestamp' 'phys_health_consequence' 'mental_health_interview'\\n 'phys_health_interview' 'mental_vs_physical' 'leave' 'obs_consequence'\\n 'anonymity' 'wellness_program' 'supervisor' 'coworkers' 'benefits'\\n 'care_options'] not found in axis\""
     ]
    }
   ],
   "source": [
    "us_tech_mental.drop(columns=['Country','Timestamp','phys_health_consequence','mental_health_interview','phys_health_interview','mental_vs_physical','leave','obs_consequence', 'anonymity','wellness_program','supervisor','coworkers', 'benefits','care_options'], axis=1, inplace=True)\n",
    "# us_tech_mental.drop(columns=['anonymity','wellness_program'], axis=1, inplace = True)\n",
    "\n",
    "#us_tech_mental.drop(columns=['supervisor','coworkers', 'self_employed', 'benefits','care_options'], axis=1, inplace = True)"
   ]
  },
  {
   "cell_type": "code",
   "execution_count": 19,
   "id": "ae766572-5c1e-4627-bc56-8258fa182d42",
   "metadata": {},
   "outputs": [],
   "source": [
    "us_tech_mental.drop(columns='family_history', axis=1, inplace=True)"
   ]
  },
  {
   "cell_type": "code",
   "execution_count": 47,
   "id": "38069dbf-5d8d-4684-b669-238950e356e6",
   "metadata": {},
   "outputs": [],
   "source": [
    "us_tech_mental.dropna(inplace=True)"
   ]
  },
  {
   "cell_type": "code",
   "execution_count": 48,
   "id": "3baed4f1-104d-4a68-b26c-2996acb70be7",
   "metadata": {
    "collapsed": true,
    "jupyter": {
     "outputs_hidden": true
    },
    "tags": []
   },
   "outputs": [
    {
     "ename": "KeyError",
     "evalue": "'comments'",
     "output_type": "error",
     "traceback": [
      "\u001b[0;31m---------------------------------------------------------------------------\u001b[0m",
      "\u001b[0;31mKeyError\u001b[0m                                  Traceback (most recent call last)",
      "File \u001b[0;32m~/opt/anaconda3/lib/python3.8/site-packages/pandas/core/indexes/base.py:3080\u001b[0m, in \u001b[0;36mIndex.get_loc\u001b[0;34m(self, key, method, tolerance)\u001b[0m\n\u001b[1;32m   3079\u001b[0m \u001b[38;5;28;01mtry\u001b[39;00m:\n\u001b[0;32m-> 3080\u001b[0m     \u001b[38;5;28;01mreturn\u001b[39;00m \u001b[38;5;28;43mself\u001b[39;49m\u001b[38;5;241;43m.\u001b[39;49m\u001b[43m_engine\u001b[49m\u001b[38;5;241;43m.\u001b[39;49m\u001b[43mget_loc\u001b[49m\u001b[43m(\u001b[49m\u001b[43mcasted_key\u001b[49m\u001b[43m)\u001b[49m\n\u001b[1;32m   3081\u001b[0m \u001b[38;5;28;01mexcept\u001b[39;00m \u001b[38;5;167;01mKeyError\u001b[39;00m \u001b[38;5;28;01mas\u001b[39;00m err:\n",
      "File \u001b[0;32mpandas/_libs/index.pyx:70\u001b[0m, in \u001b[0;36mpandas._libs.index.IndexEngine.get_loc\u001b[0;34m()\u001b[0m\n",
      "File \u001b[0;32mpandas/_libs/index.pyx:101\u001b[0m, in \u001b[0;36mpandas._libs.index.IndexEngine.get_loc\u001b[0;34m()\u001b[0m\n",
      "File \u001b[0;32mpandas/_libs/hashtable_class_helper.pxi:4554\u001b[0m, in \u001b[0;36mpandas._libs.hashtable.PyObjectHashTable.get_item\u001b[0;34m()\u001b[0m\n",
      "File \u001b[0;32mpandas/_libs/hashtable_class_helper.pxi:4562\u001b[0m, in \u001b[0;36mpandas._libs.hashtable.PyObjectHashTable.get_item\u001b[0;34m()\u001b[0m\n",
      "\u001b[0;31mKeyError\u001b[0m: 'comments'",
      "\nThe above exception was the direct cause of the following exception:\n",
      "\u001b[0;31mKeyError\u001b[0m                                  Traceback (most recent call last)",
      "Cell \u001b[0;32mIn[48], line 1\u001b[0m\n\u001b[0;32m----> 1\u001b[0m \u001b[43mus_tech_mental\u001b[49m\u001b[43m[\u001b[49m\u001b[38;5;124;43m'\u001b[39;49m\u001b[38;5;124;43mcomments\u001b[39;49m\u001b[38;5;124;43m'\u001b[39;49m\u001b[43m]\u001b[49m\u001b[38;5;241m.\u001b[39munique() \u001b[38;5;66;03m# i feel like these comments do not necesssarily show you whether these workers have mental health\u001b[39;00m\n\u001b[1;32m      2\u001b[0m \u001b[38;5;66;03m# consequenes from their work\u001b[39;00m\n",
      "File \u001b[0;32m~/opt/anaconda3/lib/python3.8/site-packages/pandas/core/frame.py:3024\u001b[0m, in \u001b[0;36mDataFrame.__getitem__\u001b[0;34m(self, key)\u001b[0m\n\u001b[1;32m   3022\u001b[0m \u001b[38;5;28;01mif\u001b[39;00m \u001b[38;5;28mself\u001b[39m\u001b[38;5;241m.\u001b[39mcolumns\u001b[38;5;241m.\u001b[39mnlevels \u001b[38;5;241m>\u001b[39m \u001b[38;5;241m1\u001b[39m:\n\u001b[1;32m   3023\u001b[0m     \u001b[38;5;28;01mreturn\u001b[39;00m \u001b[38;5;28mself\u001b[39m\u001b[38;5;241m.\u001b[39m_getitem_multilevel(key)\n\u001b[0;32m-> 3024\u001b[0m indexer \u001b[38;5;241m=\u001b[39m \u001b[38;5;28;43mself\u001b[39;49m\u001b[38;5;241;43m.\u001b[39;49m\u001b[43mcolumns\u001b[49m\u001b[38;5;241;43m.\u001b[39;49m\u001b[43mget_loc\u001b[49m\u001b[43m(\u001b[49m\u001b[43mkey\u001b[49m\u001b[43m)\u001b[49m\n\u001b[1;32m   3025\u001b[0m \u001b[38;5;28;01mif\u001b[39;00m is_integer(indexer):\n\u001b[1;32m   3026\u001b[0m     indexer \u001b[38;5;241m=\u001b[39m [indexer]\n",
      "File \u001b[0;32m~/opt/anaconda3/lib/python3.8/site-packages/pandas/core/indexes/base.py:3082\u001b[0m, in \u001b[0;36mIndex.get_loc\u001b[0;34m(self, key, method, tolerance)\u001b[0m\n\u001b[1;32m   3080\u001b[0m         \u001b[38;5;28;01mreturn\u001b[39;00m \u001b[38;5;28mself\u001b[39m\u001b[38;5;241m.\u001b[39m_engine\u001b[38;5;241m.\u001b[39mget_loc(casted_key)\n\u001b[1;32m   3081\u001b[0m     \u001b[38;5;28;01mexcept\u001b[39;00m \u001b[38;5;167;01mKeyError\u001b[39;00m \u001b[38;5;28;01mas\u001b[39;00m err:\n\u001b[0;32m-> 3082\u001b[0m         \u001b[38;5;28;01mraise\u001b[39;00m \u001b[38;5;167;01mKeyError\u001b[39;00m(key) \u001b[38;5;28;01mfrom\u001b[39;00m \u001b[38;5;21;01merr\u001b[39;00m\n\u001b[1;32m   3084\u001b[0m \u001b[38;5;28;01mif\u001b[39;00m tolerance \u001b[38;5;129;01mis\u001b[39;00m \u001b[38;5;129;01mnot\u001b[39;00m \u001b[38;5;28;01mNone\u001b[39;00m:\n\u001b[1;32m   3085\u001b[0m     tolerance \u001b[38;5;241m=\u001b[39m \u001b[38;5;28mself\u001b[39m\u001b[38;5;241m.\u001b[39m_convert_tolerance(tolerance, np\u001b[38;5;241m.\u001b[39masarray(key))\n",
      "\u001b[0;31mKeyError\u001b[0m: 'comments'"
     ]
    }
   ],
   "source": [
    "us_tech_mental['comments'].unique() # i feel like these comments do not necesssarily show you whether these workers have mental health\n",
    "# consequenes from their work\n"
   ]
  },
  {
   "cell_type": "code",
   "execution_count": 49,
   "id": "9c8b453c-73ec-4231-a30b-163d316375fc",
   "metadata": {
    "collapsed": true,
    "jupyter": {
     "outputs_hidden": true
    },
    "tags": []
   },
   "outputs": [
    {
     "data": {
      "text/html": [
       "<div>\n",
       "<style scoped>\n",
       "    .dataframe tbody tr th:only-of-type {\n",
       "        vertical-align: middle;\n",
       "    }\n",
       "\n",
       "    .dataframe tbody tr th {\n",
       "        vertical-align: top;\n",
       "    }\n",
       "\n",
       "    .dataframe thead th {\n",
       "        text-align: right;\n",
       "    }\n",
       "</style>\n",
       "<table border=\"1\" class=\"dataframe\">\n",
       "  <thead>\n",
       "    <tr style=\"text-align: right;\">\n",
       "      <th></th>\n",
       "      <th>Age</th>\n",
       "      <th>Gender</th>\n",
       "      <th>State</th>\n",
       "      <th>Self Employed</th>\n",
       "      <th>Treatment</th>\n",
       "      <th>Work Interfere</th>\n",
       "      <th>Number of Employees</th>\n",
       "      <th>Remote Work</th>\n",
       "      <th>Tech Company</th>\n",
       "      <th>Seek Help</th>\n",
       "      <th>Mental Health Consequence</th>\n",
       "      <th>Comments</th>\n",
       "    </tr>\n",
       "  </thead>\n",
       "  <tbody>\n",
       "    <tr>\n",
       "      <th>24</th>\n",
       "      <td>33</td>\n",
       "      <td>Male</td>\n",
       "      <td>CA</td>\n",
       "      <td>No</td>\n",
       "      <td>Yes</td>\n",
       "      <td>Rarely</td>\n",
       "      <td>26-100</td>\n",
       "      <td>No</td>\n",
       "      <td>Yes</td>\n",
       "      <td>Yes</td>\n",
       "      <td>No</td>\n",
       "      <td>Relatively new job. Ask again later</td>\n",
       "    </tr>\n",
       "    <tr>\n",
       "      <th>25</th>\n",
       "      <td>35</td>\n",
       "      <td>Male</td>\n",
       "      <td>TN</td>\n",
       "      <td>No</td>\n",
       "      <td>Yes</td>\n",
       "      <td>Sometimes</td>\n",
       "      <td>More than 1000</td>\n",
       "      <td>No</td>\n",
       "      <td>No</td>\n",
       "      <td>Don't know</td>\n",
       "      <td>Yes</td>\n",
       "      <td>Sometimes I think  about using drugs for my me...</td>\n",
       "    </tr>\n",
       "    <tr>\n",
       "      <th>33</th>\n",
       "      <td>42</td>\n",
       "      <td>Male</td>\n",
       "      <td>WA</td>\n",
       "      <td>No</td>\n",
       "      <td>Yes</td>\n",
       "      <td>Sometimes</td>\n",
       "      <td>26-100</td>\n",
       "      <td>Yes</td>\n",
       "      <td>Yes</td>\n",
       "      <td>Yes</td>\n",
       "      <td>Maybe</td>\n",
       "      <td>I selected my current employer based on its po...</td>\n",
       "    </tr>\n",
       "    <tr>\n",
       "      <th>45</th>\n",
       "      <td>38</td>\n",
       "      <td>Female</td>\n",
       "      <td>TX</td>\n",
       "      <td>No</td>\n",
       "      <td>Yes</td>\n",
       "      <td>Sometimes</td>\n",
       "      <td>26-100</td>\n",
       "      <td>No</td>\n",
       "      <td>Yes</td>\n",
       "      <td>Yes</td>\n",
       "      <td>No</td>\n",
       "      <td>Our health plan has covered my psychotherapy a...</td>\n",
       "    </tr>\n",
       "    <tr>\n",
       "      <th>49</th>\n",
       "      <td>30</td>\n",
       "      <td>Male</td>\n",
       "      <td>IL</td>\n",
       "      <td>No</td>\n",
       "      <td>Yes</td>\n",
       "      <td>Rarely</td>\n",
       "      <td>26-100</td>\n",
       "      <td>No</td>\n",
       "      <td>Yes</td>\n",
       "      <td>Don't know</td>\n",
       "      <td>Maybe</td>\n",
       "      <td>I just started a new job last week hence a lot...</td>\n",
       "    </tr>\n",
       "    <tr>\n",
       "      <th>...</th>\n",
       "      <td>...</td>\n",
       "      <td>...</td>\n",
       "      <td>...</td>\n",
       "      <td>...</td>\n",
       "      <td>...</td>\n",
       "      <td>...</td>\n",
       "      <td>...</td>\n",
       "      <td>...</td>\n",
       "      <td>...</td>\n",
       "      <td>...</td>\n",
       "      <td>...</td>\n",
       "      <td>...</td>\n",
       "    </tr>\n",
       "    <tr>\n",
       "      <th>1186</th>\n",
       "      <td>56</td>\n",
       "      <td>Female</td>\n",
       "      <td>OR</td>\n",
       "      <td>Yes</td>\n",
       "      <td>No</td>\n",
       "      <td>Rarely</td>\n",
       "      <td>1-5</td>\n",
       "      <td>Yes</td>\n",
       "      <td>Yes</td>\n",
       "      <td>Don't know</td>\n",
       "      <td>Maybe</td>\n",
       "      <td>I'm self-employed on contract with small start...</td>\n",
       "    </tr>\n",
       "    <tr>\n",
       "      <th>1190</th>\n",
       "      <td>44</td>\n",
       "      <td>Male</td>\n",
       "      <td>OH</td>\n",
       "      <td>No</td>\n",
       "      <td>Yes</td>\n",
       "      <td>Sometimes</td>\n",
       "      <td>100-500</td>\n",
       "      <td>No</td>\n",
       "      <td>Yes</td>\n",
       "      <td>Yes</td>\n",
       "      <td>Maybe</td>\n",
       "      <td>My mental health issues were the direct result...</td>\n",
       "    </tr>\n",
       "    <tr>\n",
       "      <th>1219</th>\n",
       "      <td>38</td>\n",
       "      <td>Male</td>\n",
       "      <td>TX</td>\n",
       "      <td>No</td>\n",
       "      <td>Yes</td>\n",
       "      <td>Sometimes</td>\n",
       "      <td>More than 1000</td>\n",
       "      <td>Yes</td>\n",
       "      <td>Yes</td>\n",
       "      <td>Yes</td>\n",
       "      <td>No</td>\n",
       "      <td>I openly discuss my mental health struggles. I...</td>\n",
       "    </tr>\n",
       "    <tr>\n",
       "      <th>1221</th>\n",
       "      <td>46</td>\n",
       "      <td>Male</td>\n",
       "      <td>MD</td>\n",
       "      <td>No</td>\n",
       "      <td>Yes</td>\n",
       "      <td>Sometimes</td>\n",
       "      <td>100-500</td>\n",
       "      <td>Yes</td>\n",
       "      <td>Yes</td>\n",
       "      <td>Don't know</td>\n",
       "      <td>No</td>\n",
       "      <td>Just starting a new job hence the numerous I d...</td>\n",
       "    </tr>\n",
       "    <tr>\n",
       "      <th>1249</th>\n",
       "      <td>30</td>\n",
       "      <td>Male</td>\n",
       "      <td>CA</td>\n",
       "      <td>No</td>\n",
       "      <td>Yes</td>\n",
       "      <td>Sometimes</td>\n",
       "      <td>26-100</td>\n",
       "      <td>No</td>\n",
       "      <td>Yes</td>\n",
       "      <td>No</td>\n",
       "      <td>No</td>\n",
       "      <td>Bipolar disorder</td>\n",
       "    </tr>\n",
       "  </tbody>\n",
       "</table>\n",
       "<p>84 rows × 12 columns</p>\n",
       "</div>"
      ],
      "text/plain": [
       "      Age  Gender State Self Employed Treatment Work Interfere  \\\n",
       "24     33    Male    CA            No       Yes         Rarely   \n",
       "25     35    Male    TN            No       Yes      Sometimes   \n",
       "33     42    Male    WA            No       Yes      Sometimes   \n",
       "45     38  Female    TX            No       Yes      Sometimes   \n",
       "49     30    Male    IL            No       Yes         Rarely   \n",
       "...   ...     ...   ...           ...       ...            ...   \n",
       "1186   56  Female    OR           Yes        No         Rarely   \n",
       "1190   44    Male    OH            No       Yes      Sometimes   \n",
       "1219   38    Male    TX            No       Yes      Sometimes   \n",
       "1221   46    Male    MD            No       Yes      Sometimes   \n",
       "1249   30    Male    CA            No       Yes      Sometimes   \n",
       "\n",
       "     Number of Employees Remote Work Tech Company   Seek Help  \\\n",
       "24                26-100          No          Yes         Yes   \n",
       "25        More than 1000          No           No  Don't know   \n",
       "33                26-100         Yes          Yes         Yes   \n",
       "45                26-100          No          Yes         Yes   \n",
       "49                26-100          No          Yes  Don't know   \n",
       "...                  ...         ...          ...         ...   \n",
       "1186                 1-5         Yes          Yes  Don't know   \n",
       "1190             100-500          No          Yes         Yes   \n",
       "1219      More than 1000         Yes          Yes         Yes   \n",
       "1221             100-500         Yes          Yes  Don't know   \n",
       "1249              26-100          No          Yes          No   \n",
       "\n",
       "     Mental Health Consequence  \\\n",
       "24                          No   \n",
       "25                         Yes   \n",
       "33                       Maybe   \n",
       "45                          No   \n",
       "49                       Maybe   \n",
       "...                        ...   \n",
       "1186                     Maybe   \n",
       "1190                     Maybe   \n",
       "1219                        No   \n",
       "1221                        No   \n",
       "1249                        No   \n",
       "\n",
       "                                               Comments  \n",
       "24                  Relatively new job. Ask again later  \n",
       "25    Sometimes I think  about using drugs for my me...  \n",
       "33    I selected my current employer based on its po...  \n",
       "45    Our health plan has covered my psychotherapy a...  \n",
       "49    I just started a new job last week hence a lot...  \n",
       "...                                                 ...  \n",
       "1186  I'm self-employed on contract with small start...  \n",
       "1190  My mental health issues were the direct result...  \n",
       "1219  I openly discuss my mental health struggles. I...  \n",
       "1221  Just starting a new job hence the numerous I d...  \n",
       "1249                                  Bipolar disorder   \n",
       "\n",
       "[84 rows x 12 columns]"
      ]
     },
     "execution_count": 49,
     "metadata": {},
     "output_type": "execute_result"
    }
   ],
   "source": [
    "us_tech_mental"
   ]
  },
  {
   "cell_type": "code",
   "execution_count": 22,
   "id": "e7519a50-4dd6-4766-aabe-9259ea29700a",
   "metadata": {},
   "outputs": [],
   "source": [
    "# i feel like we can remove care options, wellness_program? 'mental_health_interview', 'phys_health_interview' mental_vs_physical"
   ]
  },
  {
   "cell_type": "code",
   "execution_count": 23,
   "id": "fe609c98-8ca9-4539-bdcb-62714dd38915",
   "metadata": {},
   "outputs": [],
   "source": [
    "# what does 'anonymity' mean"
   ]
  },
  {
   "cell_type": "code",
   "execution_count": 24,
   "id": "ee93d5b1-774b-45a0-819b-4cdd1e415cd5",
   "metadata": {},
   "outputs": [],
   "source": [
    "# i feel like we can keep coworkers "
   ]
  },
  {
   "cell_type": "code",
   "execution_count": null,
   "id": "c5babc97-5310-46be-8e40-03ac2df8304a",
   "metadata": {},
   "outputs": [],
   "source": []
  },
  {
   "cell_type": "code",
   "execution_count": 46,
   "id": "4008d8bb-cfe2-4955-b41c-d6f504638186",
   "metadata": {},
   "outputs": [
    {
     "name": "stdout",
     "output_type": "stream",
     "text": [
      "['Timestamp', 'Age', 'Gender', 'Country', 'state', 'self_employed', 'family_history', 'treatment', 'work_interfere', 'no_employees', 'remote_work', 'tech_company', 'benefits', 'care_options', 'wellness_program', 'seek_help', 'anonymity', 'leave', 'mental_health_consequence', 'phys_health_consequence', 'coworkers', 'supervisor', 'mental_health_interview', 'phys_health_interview', 'mental_vs_physical', 'obs_consequence', 'comments']\n"
     ]
    }
   ],
   "source": [
    "print(tech.columns.tolist()) # i want to know if these people from the tech industry studied from college and if so, what is their major? \n"
   ]
  },
  {
   "cell_type": "code",
   "execution_count": null,
   "id": "273c861e-bfca-4f72-bd15-956279fc1175",
   "metadata": {},
   "outputs": [],
   "source": []
  },
  {
   "cell_type": "code",
   "execution_count": 45,
   "id": "484f669d-c823-46fa-999b-d75079ab8674",
   "metadata": {},
   "outputs": [
    {
     "data": {
      "text/plain": [
       "array(['Yes', 'No'], dtype=object)"
      ]
     },
     "execution_count": 45,
     "metadata": {},
     "output_type": "execute_result"
    }
   ],
   "source": [
    "tech['tech_company'].unique()"
   ]
  },
  {
   "cell_type": "code",
   "execution_count": 26,
   "id": "c2e2ffe1-a932-4d1e-b714-b89cf2d6f1b3",
   "metadata": {},
   "outputs": [],
   "source": [
    "us_tech_mental = us_tech_mental.rename(columns={'no_employees':'Number of Employees', 'tech_company':'Tech Company'})"
   ]
  },
  {
   "cell_type": "code",
   "execution_count": 30,
   "id": "912e3bdf-ea2f-40d9-b539-e58f4542c405",
   "metadata": {},
   "outputs": [],
   "source": [
    "us_tech_mental = us_tech_mental.rename(columns={'no_employees':'Number of Employees', 'tech_company':'Tech Company'})"
   ]
  },
  {
   "cell_type": "code",
   "execution_count": 28,
   "id": "8d733477-97bf-43a6-9c50-203cd05cccdc",
   "metadata": {},
   "outputs": [
    {
     "data": {
      "text/html": [
       "<div>\n",
       "<style scoped>\n",
       "    .dataframe tbody tr th:only-of-type {\n",
       "        vertical-align: middle;\n",
       "    }\n",
       "\n",
       "    .dataframe tbody tr th {\n",
       "        vertical-align: top;\n",
       "    }\n",
       "\n",
       "    .dataframe thead th {\n",
       "        text-align: right;\n",
       "    }\n",
       "</style>\n",
       "<table border=\"1\" class=\"dataframe\">\n",
       "  <thead>\n",
       "    <tr style=\"text-align: right;\">\n",
       "      <th></th>\n",
       "      <th>Age</th>\n",
       "      <th>Gender</th>\n",
       "      <th>state</th>\n",
       "      <th>self_employed</th>\n",
       "      <th>treatment</th>\n",
       "      <th>work_interfere</th>\n",
       "      <th>no_employees</th>\n",
       "      <th>remote_work</th>\n",
       "      <th>tech_company</th>\n",
       "      <th>seek_help</th>\n",
       "      <th>mental_health_consequence</th>\n",
       "      <th>comments</th>\n",
       "    </tr>\n",
       "  </thead>\n",
       "  <tbody>\n",
       "    <tr>\n",
       "      <th>24</th>\n",
       "      <td>33</td>\n",
       "      <td>Male</td>\n",
       "      <td>CA</td>\n",
       "      <td>No</td>\n",
       "      <td>Yes</td>\n",
       "      <td>Rarely</td>\n",
       "      <td>26-100</td>\n",
       "      <td>No</td>\n",
       "      <td>Yes</td>\n",
       "      <td>Yes</td>\n",
       "      <td>No</td>\n",
       "      <td>Relatively new job. Ask again later</td>\n",
       "    </tr>\n",
       "    <tr>\n",
       "      <th>25</th>\n",
       "      <td>35</td>\n",
       "      <td>Male</td>\n",
       "      <td>TN</td>\n",
       "      <td>No</td>\n",
       "      <td>Yes</td>\n",
       "      <td>Sometimes</td>\n",
       "      <td>More than 1000</td>\n",
       "      <td>No</td>\n",
       "      <td>No</td>\n",
       "      <td>Don't know</td>\n",
       "      <td>Yes</td>\n",
       "      <td>Sometimes I think  about using drugs for my me...</td>\n",
       "    </tr>\n",
       "    <tr>\n",
       "      <th>33</th>\n",
       "      <td>42</td>\n",
       "      <td>Male</td>\n",
       "      <td>WA</td>\n",
       "      <td>No</td>\n",
       "      <td>Yes</td>\n",
       "      <td>Sometimes</td>\n",
       "      <td>26-100</td>\n",
       "      <td>Yes</td>\n",
       "      <td>Yes</td>\n",
       "      <td>Yes</td>\n",
       "      <td>Maybe</td>\n",
       "      <td>I selected my current employer based on its po...</td>\n",
       "    </tr>\n",
       "    <tr>\n",
       "      <th>45</th>\n",
       "      <td>38</td>\n",
       "      <td>Female</td>\n",
       "      <td>TX</td>\n",
       "      <td>No</td>\n",
       "      <td>Yes</td>\n",
       "      <td>Sometimes</td>\n",
       "      <td>26-100</td>\n",
       "      <td>No</td>\n",
       "      <td>Yes</td>\n",
       "      <td>Yes</td>\n",
       "      <td>No</td>\n",
       "      <td>Our health plan has covered my psychotherapy a...</td>\n",
       "    </tr>\n",
       "    <tr>\n",
       "      <th>49</th>\n",
       "      <td>30</td>\n",
       "      <td>Male</td>\n",
       "      <td>IL</td>\n",
       "      <td>No</td>\n",
       "      <td>Yes</td>\n",
       "      <td>Rarely</td>\n",
       "      <td>26-100</td>\n",
       "      <td>No</td>\n",
       "      <td>Yes</td>\n",
       "      <td>Don't know</td>\n",
       "      <td>Maybe</td>\n",
       "      <td>I just started a new job last week hence a lot...</td>\n",
       "    </tr>\n",
       "    <tr>\n",
       "      <th>...</th>\n",
       "      <td>...</td>\n",
       "      <td>...</td>\n",
       "      <td>...</td>\n",
       "      <td>...</td>\n",
       "      <td>...</td>\n",
       "      <td>...</td>\n",
       "      <td>...</td>\n",
       "      <td>...</td>\n",
       "      <td>...</td>\n",
       "      <td>...</td>\n",
       "      <td>...</td>\n",
       "      <td>...</td>\n",
       "    </tr>\n",
       "    <tr>\n",
       "      <th>1186</th>\n",
       "      <td>56</td>\n",
       "      <td>Female</td>\n",
       "      <td>OR</td>\n",
       "      <td>Yes</td>\n",
       "      <td>No</td>\n",
       "      <td>Rarely</td>\n",
       "      <td>1-5</td>\n",
       "      <td>Yes</td>\n",
       "      <td>Yes</td>\n",
       "      <td>Don't know</td>\n",
       "      <td>Maybe</td>\n",
       "      <td>I'm self-employed on contract with small start...</td>\n",
       "    </tr>\n",
       "    <tr>\n",
       "      <th>1190</th>\n",
       "      <td>44</td>\n",
       "      <td>Male</td>\n",
       "      <td>OH</td>\n",
       "      <td>No</td>\n",
       "      <td>Yes</td>\n",
       "      <td>Sometimes</td>\n",
       "      <td>100-500</td>\n",
       "      <td>No</td>\n",
       "      <td>Yes</td>\n",
       "      <td>Yes</td>\n",
       "      <td>Maybe</td>\n",
       "      <td>My mental health issues were the direct result...</td>\n",
       "    </tr>\n",
       "    <tr>\n",
       "      <th>1219</th>\n",
       "      <td>38</td>\n",
       "      <td>Male</td>\n",
       "      <td>TX</td>\n",
       "      <td>No</td>\n",
       "      <td>Yes</td>\n",
       "      <td>Sometimes</td>\n",
       "      <td>More than 1000</td>\n",
       "      <td>Yes</td>\n",
       "      <td>Yes</td>\n",
       "      <td>Yes</td>\n",
       "      <td>No</td>\n",
       "      <td>I openly discuss my mental health struggles. I...</td>\n",
       "    </tr>\n",
       "    <tr>\n",
       "      <th>1221</th>\n",
       "      <td>46</td>\n",
       "      <td>Male</td>\n",
       "      <td>MD</td>\n",
       "      <td>No</td>\n",
       "      <td>Yes</td>\n",
       "      <td>Sometimes</td>\n",
       "      <td>100-500</td>\n",
       "      <td>Yes</td>\n",
       "      <td>Yes</td>\n",
       "      <td>Don't know</td>\n",
       "      <td>No</td>\n",
       "      <td>Just starting a new job hence the numerous I d...</td>\n",
       "    </tr>\n",
       "    <tr>\n",
       "      <th>1249</th>\n",
       "      <td>30</td>\n",
       "      <td>Male</td>\n",
       "      <td>CA</td>\n",
       "      <td>No</td>\n",
       "      <td>Yes</td>\n",
       "      <td>Sometimes</td>\n",
       "      <td>26-100</td>\n",
       "      <td>No</td>\n",
       "      <td>Yes</td>\n",
       "      <td>No</td>\n",
       "      <td>No</td>\n",
       "      <td>Bipolar disorder</td>\n",
       "    </tr>\n",
       "  </tbody>\n",
       "</table>\n",
       "<p>84 rows × 12 columns</p>\n",
       "</div>"
      ],
      "text/plain": [
       "      Age  Gender state self_employed treatment work_interfere  \\\n",
       "24     33    Male    CA            No       Yes         Rarely   \n",
       "25     35    Male    TN            No       Yes      Sometimes   \n",
       "33     42    Male    WA            No       Yes      Sometimes   \n",
       "45     38  Female    TX            No       Yes      Sometimes   \n",
       "49     30    Male    IL            No       Yes         Rarely   \n",
       "...   ...     ...   ...           ...       ...            ...   \n",
       "1186   56  Female    OR           Yes        No         Rarely   \n",
       "1190   44    Male    OH            No       Yes      Sometimes   \n",
       "1219   38    Male    TX            No       Yes      Sometimes   \n",
       "1221   46    Male    MD            No       Yes      Sometimes   \n",
       "1249   30    Male    CA            No       Yes      Sometimes   \n",
       "\n",
       "        no_employees remote_work tech_company   seek_help  \\\n",
       "24            26-100          No          Yes         Yes   \n",
       "25    More than 1000          No           No  Don't know   \n",
       "33            26-100         Yes          Yes         Yes   \n",
       "45            26-100          No          Yes         Yes   \n",
       "49            26-100          No          Yes  Don't know   \n",
       "...              ...         ...          ...         ...   \n",
       "1186             1-5         Yes          Yes  Don't know   \n",
       "1190         100-500          No          Yes         Yes   \n",
       "1219  More than 1000         Yes          Yes         Yes   \n",
       "1221         100-500         Yes          Yes  Don't know   \n",
       "1249          26-100          No          Yes          No   \n",
       "\n",
       "     mental_health_consequence  \\\n",
       "24                          No   \n",
       "25                         Yes   \n",
       "33                       Maybe   \n",
       "45                          No   \n",
       "49                       Maybe   \n",
       "...                        ...   \n",
       "1186                     Maybe   \n",
       "1190                     Maybe   \n",
       "1219                        No   \n",
       "1221                        No   \n",
       "1249                        No   \n",
       "\n",
       "                                               comments  \n",
       "24                  Relatively new job. Ask again later  \n",
       "25    Sometimes I think  about using drugs for my me...  \n",
       "33    I selected my current employer based on its po...  \n",
       "45    Our health plan has covered my psychotherapy a...  \n",
       "49    I just started a new job last week hence a lot...  \n",
       "...                                                 ...  \n",
       "1186  I'm self-employed on contract with small start...  \n",
       "1190  My mental health issues were the direct result...  \n",
       "1219  I openly discuss my mental health struggles. I...  \n",
       "1221  Just starting a new job hence the numerous I d...  \n",
       "1249                                  Bipolar disorder   \n",
       "\n",
       "[84 rows x 12 columns]"
      ]
     },
     "execution_count": 28,
     "metadata": {},
     "output_type": "execute_result"
    }
   ],
   "source": [
    "us_tech_mental_clean = us_tech_mental\n",
    "us_tech_mental_clean"
   ]
  },
  {
   "cell_type": "code",
   "execution_count": 92,
   "id": "a69b91c9-e25b-4c62-a68f-b778ae996837",
   "metadata": {},
   "outputs": [],
   "source": [
    "us_tech_mental_clean.to_csv('us_tech_mental_clean.csv', index=False)"
   ]
  },
  {
   "cell_type": "code",
   "execution_count": 53,
   "id": "a7eeb1f8-342f-48a4-bb03-d4214c0ff2d7",
   "metadata": {
    "collapsed": true,
    "jupyter": {
     "outputs_hidden": true
    },
    "tags": []
   },
   "outputs": [
    {
     "data": {
      "text/plain": [
       "array(['8/7/2020 12:02', '8/7/2020 12:04', '8/7/2020 12:05',\n",
       "       '8/7/2020 12:06', '8/7/2020 12:13', '8/7/2020 12:31',\n",
       "       '8/7/2020 12:32', '8/7/2020 12:33', '8/7/2020 12:35',\n",
       "       '8/7/2020 12:39', '8/7/2020 12:40', '8/7/2020 12:41',\n",
       "       '8/7/2020 12:43', '8/7/2020 12:46', '8/7/2020 12:52',\n",
       "       '8/7/2020 13:05', '8/7/2020 13:07', '8/7/2020 13:12',\n",
       "       '8/7/2020 13:13', '8/7/2020 13:15', '8/7/2020 13:17',\n",
       "       '8/7/2020 13:29', '8/7/2020 13:35', '8/7/2020 13:41',\n",
       "       '8/7/2020 13:58', '8/7/2020 14:05', '8/7/2020 14:27',\n",
       "       '8/7/2020 14:29', '8/7/2020 14:31', '8/7/2020 14:41',\n",
       "       '8/7/2020 14:43', '8/7/2020 14:45', '8/7/2020 14:47',\n",
       "       '8/7/2020 14:56', '8/7/2020 14:57', '8/7/2020 14:58',\n",
       "       '8/7/2020 15:07', '8/7/2020 15:08', '8/7/2020 15:09',\n",
       "       '8/7/2020 15:12', '8/7/2020 15:14', '8/7/2020 15:18',\n",
       "       '8/7/2020 15:27', '8/7/2020 15:37', '8/7/2020 15:47',\n",
       "       '8/7/2020 15:48', '8/7/2020 15:57', '8/7/2020 15:58',\n",
       "       '8/7/2020 16:08', '8/7/2020 16:21', '8/7/2020 16:22',\n",
       "       '8/7/2020 16:34', '8/7/2020 16:53', '8/7/2020 17:05',\n",
       "       '8/7/2020 17:37', '8/7/2020 17:46', '8/7/2020 17:50',\n",
       "       '8/7/2020 18:10', '8/7/2020 18:11', '8/7/2020 19:05',\n",
       "       '8/7/2020 19:32', '8/7/2020 20:36', '8/7/2020 21:21',\n",
       "       '8/7/2020 22:35', '9/7/2020 6:57', '9/7/2020 11:43',\n",
       "       '9/7/2020 11:57', '9/7/2020 13:15', '9/7/2020 18:24',\n",
       "       '13/07/2020 10:07:32', '13/07/2020 10:10:30',\n",
       "       '13/07/2020 10:11:26', '13/07/2020 10:12:18',\n",
       "       '13/07/2020 10:12:26', '13/07/2020 10:12:28',\n",
       "       '13/07/2020 10:14:46', '13/07/2020 10:33:47',\n",
       "       '13/07/2020 10:34:08', '13/07/2020 11:46:13',\n",
       "       '13/07/2020 11:49:02', '13/07/2020 11:54:58',\n",
       "       '13/07/2020 13:57:11', '13/07/2020 14:38:12',\n",
       "       '13/07/2020 14:48:05', '13/07/2020 16:15:13',\n",
       "       '13/07/2020 17:30:44', '13/07/2020 19:08:32',\n",
       "       '13/07/2020 19:56:49', '13/07/2020 21:21:42',\n",
       "       '13/07/2020 21:22:56', '13/07/2020 21:23:57',\n",
       "       '18/07/2020 20:16:21'], dtype=object)"
      ]
     },
     "execution_count": 53,
     "metadata": {},
     "output_type": "execute_result"
    }
   ],
   "source": [
    "student['Timestamp'].unique() #remove this "
   ]
  },
  {
   "cell_type": "code",
   "execution_count": 7,
   "id": "3e4afb94-5b9c-4e74-a62c-d8ace8c2eb62",
   "metadata": {
    "tags": []
   },
   "outputs": [
    {
     "data": {
      "text/plain": [
       "array(['Engineering', 'Islamic education', 'BIT', 'Laws', 'Mathemathics',\n",
       "       'Pendidikan islam', 'BCS', 'Human Resources', 'Irkhs',\n",
       "       'Psychology', 'KENMS', 'Accounting ', 'ENM', 'Marine science',\n",
       "       'KOE', 'Banking Studies', 'Business Administration', 'Law',\n",
       "       'KIRKHS', 'Usuluddin ', 'TAASL', 'Engine', 'ALA',\n",
       "       'Biomedical science', 'koe', 'Kirkhs', 'BENL', 'Benl', 'IT', 'CTS',\n",
       "       'engin', 'Econs', 'MHSC', 'Malcom', 'Kop', 'Human Sciences ',\n",
       "       'Biotechnology', 'Communication ', 'Diploma Nursing',\n",
       "       'Pendidikan Islam ', 'Radiography', 'psychology', 'Fiqh fatwa ',\n",
       "       'DIPLOMA TESL', 'Koe', 'Fiqh', 'Islamic Education', 'Nursing ',\n",
       "       'Pendidikan Islam'], dtype=object)"
      ]
     },
     "execution_count": 7,
     "metadata": {},
     "output_type": "execute_result"
    }
   ],
   "source": [
    "student['What is your course?'].unique() #need to rename the columns "
   ]
  },
  {
   "cell_type": "code",
   "execution_count": 50,
   "id": "61aecb19-6265-46ef-8e9a-8540a8d3bc50",
   "metadata": {},
   "outputs": [],
   "source": [
    "# Rewriting column names for student, some are repetitive \n",
    "student['What is your course?'].replace({'psychology': 'Psychology', 'Pendidikan Islam ': 'Islamic Studies', 'Pendidikan Islam': 'Islamic Studies', 'Islamic education': 'Islamic Studies', 'Islamic Education': 'Islamic Studies', 'engin': 'Engineering', 'Econs': 'Economics', 'Marine science': 'Marine Sciences',\n",
    "                                  'Biomedical science':'Biomedical Sciences', 'Engine': 'Engineering','Pendidikan islam':'Islamic Studies', 'Laws':'Law'\n",
    "                                        \n",
    "                                        \n",
    "                                        \n",
    "                                        }, inplace=True)"
   ]
  },
  {
   "cell_type": "code",
   "execution_count": 51,
   "id": "6e1f03f5-ef8a-4345-8903-1f5a9084e518",
   "metadata": {},
   "outputs": [
    {
     "data": {
      "text/plain": [
       "array(['Engineering', 'Islamic Studies', 'BIT', 'Law', 'Mathemathics',\n",
       "       'BCS', 'Human Resources', 'Irkhs', 'Psychology', 'KENMS',\n",
       "       'Accounting ', 'ENM', 'Marine Sciences', 'KOE', 'Banking Studies',\n",
       "       'Business Administration', 'KIRKHS', 'Usuluddin ', 'TAASL', 'ALA',\n",
       "       'Biomedical Sciences', 'koe', 'Kirkhs', 'BENL', 'Benl', 'IT',\n",
       "       'CTS', 'Economics', 'MHSC', 'Malcom', 'Kop', 'Human Sciences ',\n",
       "       'Biotechnology', 'Communication ', 'Diploma Nursing',\n",
       "       'Radiography', 'Fiqh fatwa ', 'DIPLOMA TESL', 'Koe', 'Fiqh',\n",
       "       'Nursing '], dtype=object)"
      ]
     },
     "execution_count": 51,
     "metadata": {},
     "output_type": "execute_result"
    }
   ],
   "source": [
    "student['What is your course?'].unique()"
   ]
  },
  {
   "cell_type": "code",
   "execution_count": 52,
   "id": "deb8d7f2-11d8-4521-b045-d3c1578b26a2",
   "metadata": {
    "collapsed": true,
    "jupyter": {
     "outputs_hidden": true
    },
    "tags": []
   },
   "outputs": [
    {
     "ename": "NameError",
     "evalue": "name 'df' is not defined",
     "output_type": "error",
     "traceback": [
      "\u001b[0;31m---------------------------------------------------------------------------\u001b[0m",
      "\u001b[0;31mNameError\u001b[0m                                 Traceback (most recent call last)",
      "Cell \u001b[0;32mIn[52], line 2\u001b[0m\n\u001b[1;32m      1\u001b[0m \u001b[38;5;66;03m# Drop rows where the value in column 'C' is 'X' or 'Y'\u001b[39;00m\n\u001b[0;32m----> 2\u001b[0m df \u001b[38;5;241m=\u001b[39m \u001b[43mdf\u001b[49m[(df[\u001b[38;5;124m'\u001b[39m\u001b[38;5;124mC\u001b[39m\u001b[38;5;124m'\u001b[39m] \u001b[38;5;241m!=\u001b[39m \u001b[38;5;124m'\u001b[39m\u001b[38;5;124mX\u001b[39m\u001b[38;5;124m'\u001b[39m) \u001b[38;5;241m&\u001b[39m (df[\u001b[38;5;124m'\u001b[39m\u001b[38;5;124mC\u001b[39m\u001b[38;5;124m'\u001b[39m] \u001b[38;5;241m!=\u001b[39m \u001b[38;5;124m'\u001b[39m\u001b[38;5;124mY\u001b[39m\u001b[38;5;124m'\u001b[39m)] \u001b[38;5;66;03m# this logic helps me figure out on how to do this\u001b[39;00m\n",
      "\u001b[0;31mNameError\u001b[0m: name 'df' is not defined"
     ]
    }
   ],
   "source": [
    "# Drop rows where the value in column 'C' is 'X' or 'Y'\n",
    "df = df[(df['C'] != 'X') & (df['C'] != 'Y')] # this logic helps me figure out on how to do this"
   ]
  },
  {
   "cell_type": "code",
   "execution_count": 53,
   "id": "1e343c9b-f4c2-4810-b3c9-82caceba6a14",
   "metadata": {},
   "outputs": [],
   "source": [
    "student = student[(student['What is your course?'] != 'BIT') & (student['What is your course?'] != 'BCS')]\n",
    "\n"
   ]
  },
  {
   "cell_type": "code",
   "execution_count": 54,
   "id": "39c80097-79f5-49e2-89de-5603ffe37f3e",
   "metadata": {},
   "outputs": [],
   "source": [
    "student = student[(student['What is your course?'] != 'Irkhs') & (student['What is your course?'] != 'KENMS')]\n"
   ]
  },
  {
   "cell_type": "code",
   "execution_count": 55,
   "id": "2ace4f2a-29ad-4f44-9c43-2b7737a185f6",
   "metadata": {},
   "outputs": [],
   "source": [
    "student = student[(student['What is your course?'] != 'BIT') & (student['What is your course?'] != 'BCS') & (student['What is your course?'] != 'Irkhs') & (student['What is your course?'] != 'KENMS') & (student['What is your course?'] != 'ENM') & (student['What is your course?'] != 'KOE')& (student['What is your course?'] != 'KIRKHS')& (student['What is your course?'] != 'Usuluddin ') & (student['What is your course?'] != 'TAASL')  & (student['What is your course?'] != 'ALA')& (student['What is your course?'] != 'koe')  & (student['What is your course?'] != 'Kirkhs')  & (student['What is your course?'] != 'BENL')& (student['What is your course?'] != 'Benl') & (student['What is your course?'] != 'IT')& (student['What is your course?'] != 'CTS') & (student['What is your course?'] != 'MHSC') & (student['What is your course?'] != 'Malcom') & (student['What is your course?'] != 'Kop') & (student['What is your course?'] != 'Fiqh fatwa ') & (student['What is your course?'] != 'DIPLOMA TESL') & (student['What is your course?'] != 'Koe') & (student['What is your course?'] != 'Fiqh')]\n",
    "\n",
    "\n",
    "\n",
    "\n"
   ]
  },
  {
   "cell_type": "code",
   "execution_count": 56,
   "id": "c3dc4428-584a-49c1-ae49-38ede2406a60",
   "metadata": {},
   "outputs": [
    {
     "data": {
      "text/plain": [
       "array(['Engineering', 'Islamic Studies', 'Law', 'Mathemathics',\n",
       "       'Human Resources', 'Psychology', 'Accounting ', 'Marine Sciences',\n",
       "       'Banking Studies', 'Business Administration',\n",
       "       'Biomedical Sciences', 'Economics', 'Human Sciences ',\n",
       "       'Biotechnology', 'Communication ', 'Diploma Nursing',\n",
       "       'Radiography', 'Nursing '], dtype=object)"
      ]
     },
     "execution_count": 56,
     "metadata": {},
     "output_type": "execute_result"
    }
   ],
   "source": [
    "student['What is your course?'].unique() # a much cleaner category \n",
    "# ^^ i decided to do these in segments bc of how long the list of names is - first had an error when i wanted to do all of them at once because i forgot to add in a parentehses somewhere\n"
   ]
  },
  {
   "cell_type": "code",
   "execution_count": 57,
   "id": "abab4b63-5da3-4c73-8d63-0a1313546f41",
   "metadata": {},
   "outputs": [
    {
     "data": {
      "text/plain": [
       "array(['Engineering', 'Islamic Studies', 'Law', 'Mathemathics',\n",
       "       'Human Resources', 'Psychology', 'Accounting ', 'Marine Sciences',\n",
       "       'Banking Studies', 'Business Administration',\n",
       "       'Biomedical Sciences', 'Economics', 'Human Sciences ',\n",
       "       'Biotechnology', 'Communication ', 'Diploma Nursing',\n",
       "       'Radiography', 'Nursing '], dtype=object)"
      ]
     },
     "execution_count": 57,
     "metadata": {},
     "output_type": "execute_result"
    }
   ],
   "source": [
    "student['What is your course?'].unique()"
   ]
  },
  {
   "cell_type": "code",
   "execution_count": null,
   "id": "87ffd15d-3c45-48d4-99ee-ac382f9ec329",
   "metadata": {},
   "outputs": [],
   "source": [
    "# dropping unnecessary column names \n",
    "# some are hard to decypher and figure out,"
   ]
  },
  {
   "cell_type": "code",
   "execution_count": 58,
   "id": "11290949-9f30-44f5-a6b1-179eb8306511",
   "metadata": {},
   "outputs": [
    {
     "data": {
      "text/html": [
       "<div>\n",
       "<style scoped>\n",
       "    .dataframe tbody tr th:only-of-type {\n",
       "        vertical-align: middle;\n",
       "    }\n",
       "\n",
       "    .dataframe tbody tr th {\n",
       "        vertical-align: top;\n",
       "    }\n",
       "\n",
       "    .dataframe thead th {\n",
       "        text-align: right;\n",
       "    }\n",
       "</style>\n",
       "<table border=\"1\" class=\"dataframe\">\n",
       "  <thead>\n",
       "    <tr style=\"text-align: right;\">\n",
       "      <th></th>\n",
       "      <th>Timestamp</th>\n",
       "      <th>Choose your gender</th>\n",
       "      <th>Age</th>\n",
       "      <th>What is your course?</th>\n",
       "      <th>Your current year of Study</th>\n",
       "      <th>What is your CGPA?</th>\n",
       "      <th>Marital status</th>\n",
       "      <th>Do you have Depression?</th>\n",
       "      <th>Do you have Anxiety?</th>\n",
       "      <th>Do you have Panic attack?</th>\n",
       "      <th>Did you seek any specialist for a treatment?</th>\n",
       "    </tr>\n",
       "  </thead>\n",
       "  <tbody>\n",
       "    <tr>\n",
       "      <th>0</th>\n",
       "      <td>8/7/2020 12:02</td>\n",
       "      <td>Female</td>\n",
       "      <td>18.0</td>\n",
       "      <td>Engineering</td>\n",
       "      <td>year 1</td>\n",
       "      <td>3.00 - 3.49</td>\n",
       "      <td>No</td>\n",
       "      <td>Yes</td>\n",
       "      <td>No</td>\n",
       "      <td>Yes</td>\n",
       "      <td>No</td>\n",
       "    </tr>\n",
       "    <tr>\n",
       "      <th>1</th>\n",
       "      <td>8/7/2020 12:04</td>\n",
       "      <td>Male</td>\n",
       "      <td>21.0</td>\n",
       "      <td>Islamic Studies</td>\n",
       "      <td>year 2</td>\n",
       "      <td>3.00 - 3.49</td>\n",
       "      <td>No</td>\n",
       "      <td>No</td>\n",
       "      <td>Yes</td>\n",
       "      <td>No</td>\n",
       "      <td>No</td>\n",
       "    </tr>\n",
       "    <tr>\n",
       "      <th>3</th>\n",
       "      <td>8/7/2020 12:06</td>\n",
       "      <td>Female</td>\n",
       "      <td>22.0</td>\n",
       "      <td>Law</td>\n",
       "      <td>year 3</td>\n",
       "      <td>3.00 - 3.49</td>\n",
       "      <td>Yes</td>\n",
       "      <td>Yes</td>\n",
       "      <td>No</td>\n",
       "      <td>No</td>\n",
       "      <td>No</td>\n",
       "    </tr>\n",
       "  </tbody>\n",
       "</table>\n",
       "</div>"
      ],
      "text/plain": [
       "        Timestamp Choose your gender   Age What is your course?  \\\n",
       "0  8/7/2020 12:02             Female  18.0          Engineering   \n",
       "1  8/7/2020 12:04               Male  21.0      Islamic Studies   \n",
       "3  8/7/2020 12:06             Female  22.0                  Law   \n",
       "\n",
       "  Your current year of Study What is your CGPA? Marital status  \\\n",
       "0                     year 1        3.00 - 3.49             No   \n",
       "1                     year 2        3.00 - 3.49             No   \n",
       "3                     year 3        3.00 - 3.49            Yes   \n",
       "\n",
       "  Do you have Depression? Do you have Anxiety? Do you have Panic attack?  \\\n",
       "0                     Yes                   No                       Yes   \n",
       "1                      No                  Yes                        No   \n",
       "3                     Yes                   No                        No   \n",
       "\n",
       "  Did you seek any specialist for a treatment?  \n",
       "0                                           No  \n",
       "1                                           No  \n",
       "3                                           No  "
      ]
     },
     "execution_count": 58,
     "metadata": {},
     "output_type": "execute_result"
    }
   ],
   "source": [
    "student.head(3)"
   ]
  },
  {
   "cell_type": "code",
   "execution_count": 59,
   "id": "6f782e7f-f3f9-4374-a2f3-16d6bb900edd",
   "metadata": {},
   "outputs": [
    {
     "name": "stderr",
     "output_type": "stream",
     "text": [
      "<ipython-input-59-ca0c4582b3ab>:2: FutureWarning: The default value of regex will change from True to False in a future version.\n",
      "  student['Your current year of Study'] = student['Your current year of Study'].str.replace(r'\\s*year\\s*', '', case=False)\n"
     ]
    }
   ],
   "source": [
    "# Remove the pattern \"year\" or \"Year\" from the 'Date' column\n",
    "student['Your current year of Study'] = student['Your current year of Study'].str.replace(r'\\s*year\\s*', '', case=False)"
   ]
  },
  {
   "cell_type": "code",
   "execution_count": 60,
   "id": "95fa5550-1e89-487e-9300-38a5c299e702",
   "metadata": {},
   "outputs": [
    {
     "data": {
      "text/html": [
       "<div>\n",
       "<style scoped>\n",
       "    .dataframe tbody tr th:only-of-type {\n",
       "        vertical-align: middle;\n",
       "    }\n",
       "\n",
       "    .dataframe tbody tr th {\n",
       "        vertical-align: top;\n",
       "    }\n",
       "\n",
       "    .dataframe thead th {\n",
       "        text-align: right;\n",
       "    }\n",
       "</style>\n",
       "<table border=\"1\" class=\"dataframe\">\n",
       "  <thead>\n",
       "    <tr style=\"text-align: right;\">\n",
       "      <th></th>\n",
       "      <th>Timestamp</th>\n",
       "      <th>Choose your gender</th>\n",
       "      <th>Age</th>\n",
       "      <th>What is your course?</th>\n",
       "      <th>Your current year of Study</th>\n",
       "      <th>What is your CGPA?</th>\n",
       "      <th>Marital status</th>\n",
       "      <th>Do you have Depression?</th>\n",
       "      <th>Do you have Anxiety?</th>\n",
       "      <th>Do you have Panic attack?</th>\n",
       "      <th>Did you seek any specialist for a treatment?</th>\n",
       "    </tr>\n",
       "  </thead>\n",
       "  <tbody>\n",
       "    <tr>\n",
       "      <th>0</th>\n",
       "      <td>8/7/2020 12:02</td>\n",
       "      <td>Female</td>\n",
       "      <td>18.0</td>\n",
       "      <td>Engineering</td>\n",
       "      <td>1</td>\n",
       "      <td>3.00 - 3.49</td>\n",
       "      <td>No</td>\n",
       "      <td>Yes</td>\n",
       "      <td>No</td>\n",
       "      <td>Yes</td>\n",
       "      <td>No</td>\n",
       "    </tr>\n",
       "    <tr>\n",
       "      <th>1</th>\n",
       "      <td>8/7/2020 12:04</td>\n",
       "      <td>Male</td>\n",
       "      <td>21.0</td>\n",
       "      <td>Islamic Studies</td>\n",
       "      <td>2</td>\n",
       "      <td>3.00 - 3.49</td>\n",
       "      <td>No</td>\n",
       "      <td>No</td>\n",
       "      <td>Yes</td>\n",
       "      <td>No</td>\n",
       "      <td>No</td>\n",
       "    </tr>\n",
       "    <tr>\n",
       "      <th>3</th>\n",
       "      <td>8/7/2020 12:06</td>\n",
       "      <td>Female</td>\n",
       "      <td>22.0</td>\n",
       "      <td>Law</td>\n",
       "      <td>3</td>\n",
       "      <td>3.00 - 3.49</td>\n",
       "      <td>Yes</td>\n",
       "      <td>Yes</td>\n",
       "      <td>No</td>\n",
       "      <td>No</td>\n",
       "      <td>No</td>\n",
       "    </tr>\n",
       "  </tbody>\n",
       "</table>\n",
       "</div>"
      ],
      "text/plain": [
       "        Timestamp Choose your gender   Age What is your course?  \\\n",
       "0  8/7/2020 12:02             Female  18.0          Engineering   \n",
       "1  8/7/2020 12:04               Male  21.0      Islamic Studies   \n",
       "3  8/7/2020 12:06             Female  22.0                  Law   \n",
       "\n",
       "  Your current year of Study What is your CGPA? Marital status  \\\n",
       "0                          1        3.00 - 3.49             No   \n",
       "1                          2        3.00 - 3.49             No   \n",
       "3                          3        3.00 - 3.49            Yes   \n",
       "\n",
       "  Do you have Depression? Do you have Anxiety? Do you have Panic attack?  \\\n",
       "0                     Yes                   No                       Yes   \n",
       "1                      No                  Yes                        No   \n",
       "3                     Yes                   No                        No   \n",
       "\n",
       "  Did you seek any specialist for a treatment?  \n",
       "0                                           No  \n",
       "1                                           No  \n",
       "3                                           No  "
      ]
     },
     "execution_count": 60,
     "metadata": {},
     "output_type": "execute_result"
    }
   ],
   "source": [
    "student.head(3)"
   ]
  },
  {
   "cell_type": "code",
   "execution_count": 61,
   "id": "40c93c1a-d7d0-478c-8fcb-2c1434f8eaa3",
   "metadata": {},
   "outputs": [],
   "source": [
    "# dropping uncessary column names for my visualization\n",
    "\n",
    "\n",
    "student.drop(columns=['Marital status','Timestamp'], axis=1, inplace=True)"
   ]
  },
  {
   "cell_type": "code",
   "execution_count": 62,
   "id": "5681aed0-5e47-4232-a3d4-9988bf3f3b66",
   "metadata": {},
   "outputs": [],
   "source": [
    "# Remove NaN values in place\n",
    "student.dropna(inplace=True)\n"
   ]
  },
  {
   "cell_type": "code",
   "execution_count": 63,
   "id": "59081f75-dd1f-45e6-9f04-39b03929133e",
   "metadata": {},
   "outputs": [
    {
     "data": {
      "text/plain": [
       "array(['Engineering', 'Islamic Studies', 'Law', 'Mathemathics',\n",
       "       'Human Resources', 'Psychology', 'Accounting ', 'Marine Sciences',\n",
       "       'Banking Studies', 'Business Administration',\n",
       "       'Biomedical Sciences', 'Economics', 'Human Sciences ',\n",
       "       'Biotechnology', 'Communication ', 'Diploma Nursing',\n",
       "       'Radiography', 'Nursing '], dtype=object)"
      ]
     },
     "execution_count": 63,
     "metadata": {},
     "output_type": "execute_result"
    }
   ],
   "source": [
    "student['What is your course?'].unique()"
   ]
  },
  {
   "cell_type": "code",
   "execution_count": null,
   "id": "25f2eb8a-7843-450f-bd41-20000fe66c4f",
   "metadata": {},
   "outputs": [],
   "source": []
  },
  {
   "cell_type": "code",
   "execution_count": 64,
   "id": "cfba88ac-ff4e-4743-930b-b09bbc5cd56a",
   "metadata": {},
   "outputs": [],
   "source": [
    "# Define a mapping of old values to new values\n",
    "major_mapping = {'Engineering': 'STEM', 'Islamic Studies': 'Humanities', 'Law': 'Social science',\n",
    "               'Mathemathics': 'STEM','Marine Sciences': 'STEM','Communication ': 'Social science','Economics': 'Social science','Psychology': 'Social science',\n",
    "               'Human Sciences ': 'Social science','Accounting ': 'Business','Banking Studies': 'Business',\n",
    "               'Business Administration': 'Business',\n",
    "               'Human Resources': 'Business',\n",
    "                'Nursing ': 'Medical',\n",
    "                'Diploma Nursing': 'Medical',\n",
    "                'Biomedical Sciences': 'Medical',\n",
    "                'Radiography': 'Medical STEM',\n",
    "                'Biotechnology': 'Medical STEM'       \n",
    "               }\n",
    "\n",
    "# Assign new values to the 'City' column based on the mapping\n",
    "student = student.assign(Major=student['What is your course?'].map(major_mapping))\n",
    "\n",
    "\n",
    "\n",
    "# Round the 'Age' column to remove decimal places\n",
    "student['Age'] = student['Age'].round(0)\n",
    "\n",
    "\n",
    "# Display the updated DataFrame\n",
    "\n",
    "\n",
    "new_column_names = {'Your current year of Study': 'Current year of Study', 'What is your CGPA?': 'Current GPA', 'Choose your gender' : 'Gender'}\n",
    "student = student.rename(columns=new_column_names)\n",
    "\n",
    "student_cleaned = student"
   ]
  },
  {
   "cell_type": "code",
   "execution_count": null,
   "id": "7ad69cb7-49e9-445b-9eba-e698b34178c3",
   "metadata": {},
   "outputs": [],
   "source": [
    "major_mapping = {'Engineering': 'STEM', 'Islamic Studies': 'Humanities', 'Law': 'Social science',\n",
    "               'Mathemathics': 'STEM','Marine Sciences': 'STEM','Communication ': 'Social science','Economics': 'Social science','Psychology': 'Social science',\n",
    "               'Human Sciences ': 'Social science','Accounting ': 'Business','Banking Studies': 'Business',\n",
    "               'Business Administration': 'Business',\n",
    "               'Human Resources': 'Business',\n",
    "                'Nursing ': 'Medical',\n",
    "                'Diploma Nursing': 'Medical',\n",
    "                'Biomedical Sciences': 'Medical',\n",
    "                'Radiography': 'Medical STEM',\n",
    "                'Biotechnology': 'Medical STEM'       \n",
    "               }"
   ]
  },
  {
   "cell_type": "code",
   "execution_count": null,
   "id": "eeecc82b-bc83-480f-8ab8-4a59bf0aa3c4",
   "metadata": {},
   "outputs": [],
   "source": []
  },
  {
   "cell_type": "code",
   "execution_count": null,
   "id": "290b137c-a9da-43f3-825a-8f923c57ed0f",
   "metadata": {},
   "outputs": [],
   "source": []
  },
  {
   "cell_type": "code",
   "execution_count": null,
   "id": "29c0c2f3-ebfd-4c95-96ba-2c97fea3ef30",
   "metadata": {},
   "outputs": [],
   "source": []
  },
  {
   "cell_type": "code",
   "execution_count": null,
   "id": "288b40e6-8fc7-44f4-9460-a0d109b889c5",
   "metadata": {},
   "outputs": [],
   "source": []
  },
  {
   "cell_type": "code",
   "execution_count": 61,
   "id": "97b8267f-25f4-434c-9647-9271565940e7",
   "metadata": {},
   "outputs": [],
   "source": [
    "student_cleaned.head(3)\n",
    "student_cleaned.to_csv('student_cleaned.csv', index=False)"
   ]
  },
  {
   "cell_type": "code",
   "execution_count": 20,
   "id": "7e9efb95-29fd-4874-af86-85bf3ca1f5a2",
   "metadata": {},
   "outputs": [
    {
     "data": {
      "text/html": [
       "<div>\n",
       "<style scoped>\n",
       "    .dataframe tbody tr th:only-of-type {\n",
       "        vertical-align: middle;\n",
       "    }\n",
       "\n",
       "    .dataframe tbody tr th {\n",
       "        vertical-align: top;\n",
       "    }\n",
       "\n",
       "    .dataframe thead th {\n",
       "        text-align: right;\n",
       "    }\n",
       "</style>\n",
       "<table border=\"1\" class=\"dataframe\">\n",
       "  <thead>\n",
       "    <tr style=\"text-align: right;\">\n",
       "      <th></th>\n",
       "      <th>Gender</th>\n",
       "      <th>Age</th>\n",
       "      <th>What is your course?</th>\n",
       "      <th>Current year of Study</th>\n",
       "      <th>Current GPA</th>\n",
       "      <th>Do you have Depression?</th>\n",
       "      <th>Do you have Anxiety?</th>\n",
       "      <th>Do you have Panic attack?</th>\n",
       "      <th>Did you seek any specialist for a treatment?</th>\n",
       "      <th>Major</th>\n",
       "    </tr>\n",
       "  </thead>\n",
       "  <tbody>\n",
       "    <tr>\n",
       "      <th>0</th>\n",
       "      <td>Female</td>\n",
       "      <td>18.0</td>\n",
       "      <td>Engineering</td>\n",
       "      <td>1</td>\n",
       "      <td>3.00 - 3.49</td>\n",
       "      <td>Yes</td>\n",
       "      <td>No</td>\n",
       "      <td>Yes</td>\n",
       "      <td>No</td>\n",
       "      <td>STEM</td>\n",
       "    </tr>\n",
       "    <tr>\n",
       "      <th>1</th>\n",
       "      <td>Male</td>\n",
       "      <td>21.0</td>\n",
       "      <td>Islamic Studies</td>\n",
       "      <td>2</td>\n",
       "      <td>3.00 - 3.49</td>\n",
       "      <td>No</td>\n",
       "      <td>Yes</td>\n",
       "      <td>No</td>\n",
       "      <td>No</td>\n",
       "      <td>Humanities</td>\n",
       "    </tr>\n",
       "    <tr>\n",
       "      <th>3</th>\n",
       "      <td>Female</td>\n",
       "      <td>22.0</td>\n",
       "      <td>Law</td>\n",
       "      <td>3</td>\n",
       "      <td>3.00 - 3.49</td>\n",
       "      <td>Yes</td>\n",
       "      <td>No</td>\n",
       "      <td>No</td>\n",
       "      <td>No</td>\n",
       "      <td>Social science</td>\n",
       "    </tr>\n",
       "  </tbody>\n",
       "</table>\n",
       "</div>"
      ],
      "text/plain": [
       "   Gender   Age What is your course? Current year of Study  Current GPA  \\\n",
       "0  Female  18.0          Engineering                     1  3.00 - 3.49   \n",
       "1    Male  21.0      Islamic Studies                     2  3.00 - 3.49   \n",
       "3  Female  22.0                  Law                     3  3.00 - 3.49   \n",
       "\n",
       "  Do you have Depression? Do you have Anxiety? Do you have Panic attack?  \\\n",
       "0                     Yes                   No                       Yes   \n",
       "1                      No                  Yes                        No   \n",
       "3                     Yes                   No                        No   \n",
       "\n",
       "  Did you seek any specialist for a treatment?           Major  \n",
       "0                                           No            STEM  \n",
       "1                                           No      Humanities  \n",
       "3                                           No  Social science  "
      ]
     },
     "execution_count": 20,
     "metadata": {},
     "output_type": "execute_result"
    }
   ],
   "source": [
    "student_cleaned.head(3)"
   ]
  },
  {
   "cell_type": "code",
   "execution_count": null,
   "id": "167462e2-a83c-4b64-b49d-222e5c30d01d",
   "metadata": {},
   "outputs": [],
   "source": []
  },
  {
   "cell_type": "code",
   "execution_count": null,
   "id": "e42deccb-0254-4391-90c5-94581104be2b",
   "metadata": {},
   "outputs": [],
   "source": []
  },
  {
   "cell_type": "code",
   "execution_count": null,
   "id": "970f628a-0b63-4b50-b9e7-a6f922af5f5d",
   "metadata": {},
   "outputs": [],
   "source": [
    "# find the common factor \n",
    "\n",
    "# predict if age, major/course, or if diff stage in life contriute to mental health "
   ]
  },
  {
   "cell_type": "code",
   "execution_count": null,
   "id": "e1628991-7b7d-4df0-a728-bfa7b21f747f",
   "metadata": {},
   "outputs": [],
   "source": [
    "# 'Marital status'- i dont think we need this then "
   ]
  },
  {
   "cell_type": "code",
   "execution_count": 62,
   "id": "9f553b21-0a43-4eb6-8329-a53e898178cb",
   "metadata": {},
   "outputs": [],
   "source": [
    "# student.drop('Timestamp', axis=1, inplace=True)"
   ]
  },
  {
   "cell_type": "code",
   "execution_count": null,
   "id": "5c61a2c3-6371-404b-b543-9f27929876e4",
   "metadata": {},
   "outputs": [],
   "source": []
  },
  {
   "cell_type": "code",
   "execution_count": null,
   "id": "3649c1ed-db00-4a26-b14d-4dc8c608cb8c",
   "metadata": {},
   "outputs": [],
   "source": [
    "# The surveys in the student's mental health dataset and tech industry datasets are taken at different periods\n",
    "\n",
    "# Tech (2014) - 6 years prior covid\n",
    "\n",
    "# Students (2020) - time of covid \n",
    "\n",
    "# How does students' mental health statuses compare with tech industry employees?\n",
    "\n",
    "# Is their a mental health correlation of tech major students and employees in the tech industry?\n",
    "\n",
    "# What are the main factors that have a strong impact on both students and employees?\n",
    "\n",
    "# My main goal is to see whether "
   ]
  },
  {
   "cell_type": "code",
   "execution_count": null,
   "id": "40098adb-a7e9-4f87-aa3e-ff1a7fa6d7bd",
   "metadata": {},
   "outputs": [],
   "source": []
  },
  {
   "cell_type": "code",
   "execution_count": null,
   "id": "617ff6a7-6577-4325-9333-9517fe1f5a4d",
   "metadata": {},
   "outputs": [],
   "source": []
  },
  {
   "cell_type": "code",
   "execution_count": null,
   "id": "9157e0d2-1534-41dc-9c6c-76f1e96ed01b",
   "metadata": {},
   "outputs": [],
   "source": []
  },
  {
   "cell_type": "code",
   "execution_count": 52,
   "id": "89be9bb5-2764-4b2e-bf15-8175543d6408",
   "metadata": {},
   "outputs": [],
   "source": [
    "us_tech_mental.to_csv('us_tech_mental2.csv', index=False) # exporting them in .csv files for data visualization "
   ]
  },
  {
   "cell_type": "code",
   "execution_count": 40,
   "id": "2b89e3e3-3a53-4db8-bb5f-71070b9a620b",
   "metadata": {},
   "outputs": [],
   "source": [
    "student.to_csv('student2.csv', index=False)"
   ]
  },
  {
   "cell_type": "code",
   "execution_count": null,
   "id": "567825fb-bcfd-4c56-af10-0b6131209596",
   "metadata": {},
   "outputs": [],
   "source": []
  }
 ],
 "metadata": {
  "kernelspec": {
   "display_name": "Python 3",
   "language": "python",
   "name": "python3"
  },
  "language_info": {
   "codemirror_mode": {
    "name": "ipython",
    "version": 3
   },
   "file_extension": ".py",
   "mimetype": "text/x-python",
   "name": "python",
   "nbconvert_exporter": "python",
   "pygments_lexer": "ipython3",
   "version": "3.8.8"
  }
 },
 "nbformat": 4,
 "nbformat_minor": 5
}
